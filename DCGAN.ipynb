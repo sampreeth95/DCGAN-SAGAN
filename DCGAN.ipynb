{
  "nbformat": 4,
  "nbformat_minor": 0,
  "metadata": {
    "colab": {
      "name": "DCGAN (2).ipynb",
      "provenance": [],
      "collapsed_sections": []
    },
    "kernelspec": {
      "name": "python3",
      "display_name": "Python 3"
    },
    "accelerator": "GPU"
  },
  "cells": [
    {
      "cell_type": "code",
      "metadata": {
        "id": "XwWX5N5GoyP8",
        "colab_type": "code",
        "outputId": "e9a44cc2-2ac8-4ff2-8a68-59d5ca7bbc3e",
        "colab": {
          "base_uri": "https://localhost:8080/",
          "height": 35
        }
      },
      "source": [
        "import tensorflow as tf\n",
        "from keras import backend as K\n",
        "import matplotlib.pyplot as plt\n",
        "from keras.layers import Input, Dense, Conv2D, Add, Dot, Conv2DTranspose, Activation, Reshape, LeakyReLU, Flatten, BatchNormalization\n",
        "from keras.models import Model, Sequential\n",
        "from keras.optimizers import Adam\n",
        "from keras.utils.generic_utils import Progbar\n",
        "from keras.applications.inception_v3 import InceptionV3\n",
        "from keras.applications.inception_v3 import preprocess_input\n",
        "from time import time\n",
        "import os\n",
        "import functools\n",
        "import numpy as np\n",
        "from numpy import cov\n",
        "from numpy import trace\n",
        "from numpy import iscomplexobj\n",
        "from numpy import asarray\n",
        "from numpy.random import randint\n",
        "from scipy.linalg import sqrtm\n",
        "from tensorflow.python.ops import array_ops\n",
        "from skimage.transform import resize\n",
        "model_save_interval = 1\n"
      ],
      "execution_count": 0,
      "outputs": [
        {
          "output_type": "stream",
          "text": [
            "Using TensorFlow backend.\n"
          ],
          "name": "stderr"
        }
      ]
    },
    {
      "cell_type": "markdown",
      "metadata": {
        "id": "x4H2LTwZvfid",
        "colab_type": "text"
      },
      "source": [
        " **for resist GPU memory**\n",
        " \n",
        " \n",
        "**NOTE:FID GENERATION WILL TAKE TIME AS WE CONSIDER 10,000 images**"
      ]
    },
    {
      "cell_type": "code",
      "metadata": {
        "id": "0S95P39YH5Uf",
        "colab_type": "code",
        "colab": {}
      },
      "source": [
        "# for resist GPU memory\n",
        "import tensorflow as tf\n",
        "config = tf.ConfigProto()\n",
        "config.gpu_options.allow_growth=True\n",
        "sess = tf.Session(config=config)\n",
        "K.set_session(sess)"
      ],
      "execution_count": 0,
      "outputs": []
    },
    {
      "cell_type": "markdown",
      "metadata": {
        "id": "74mLQpyxy4vR",
        "colab_type": "text"
      },
      "source": [
        "**Mount the Google Drive**"
      ]
    },
    {
      "cell_type": "code",
      "metadata": {
        "id": "FmQ_IN9zy3sD",
        "colab_type": "code",
        "outputId": "5f5d248d-fae2-4c96-86e4-7e6b2f56fde1",
        "colab": {
          "base_uri": "https://localhost:8080/",
          "height": 124
        }
      },
      "source": [
        "from google.colab import drive\n",
        "drive.mount('/content/drive')"
      ],
      "execution_count": 0,
      "outputs": [
        {
          "output_type": "stream",
          "text": [
            "Go to this URL in a browser: https://accounts.google.com/o/oauth2/auth?client_id=947318989803-6bn6qk8qdgf4n4g3pfee6491hc0brc4i.apps.googleusercontent.com&redirect_uri=urn%3Aietf%3Awg%3Aoauth%3A2.0%3Aoob&scope=email%20https%3A%2F%2Fwww.googleapis.com%2Fauth%2Fdocs.test%20https%3A%2F%2Fwww.googleapis.com%2Fauth%2Fdrive%20https%3A%2F%2Fwww.googleapis.com%2Fauth%2Fdrive.photos.readonly%20https%3A%2F%2Fwww.googleapis.com%2Fauth%2Fpeopleapi.readonly&response_type=code\n",
            "\n",
            "Enter your authorization code:\n",
            "··········\n",
            "Mounted at /content/drive\n"
          ],
          "name": "stdout"
        }
      ]
    },
    {
      "cell_type": "markdown",
      "metadata": {
        "id": "QuFo-Xsnvq5Y",
        "colab_type": "text"
      },
      "source": [
        "**load cifar10 dataset**"
      ]
    },
    {
      "cell_type": "code",
      "metadata": {
        "id": "mJfzVF-Xsgpz",
        "colab_type": "code",
        "colab": {}
      },
      "source": [
        "\n",
        "# load cifar10 dataset\n",
        "from keras.datasets import cifar100, cifar10\n",
        "(x_train, y_train), (x_test, y_test) = cifar10.load_data()"
      ],
      "execution_count": 0,
      "outputs": []
    },
    {
      "cell_type": "markdown",
      "metadata": {
        "id": "_sp-x3V_v0Aa",
        "colab_type": "text"
      },
      "source": [
        "**directeries**"
      ]
    },
    {
      "cell_type": "code",
      "metadata": {
        "id": "dFQkzME21d5x",
        "colab_type": "code",
        "colab": {}
      },
      "source": [
        "# directeries\n",
        "SAVE_IMG_DIR = '/content/drive/My Drive/DeepProjects4/img'\n",
        "SAVE_LOGS_DIR = '/content/drive/My Drive/DeepProjects4/loss'\n",
        "SAVE_LOSS_FID_LOGS = '/content/drive/My Drive/DeepProjects4/fid_loss'\n",
        "model_save_dir = '/content/drive/My Drive/DeepProjects4/model'"
      ],
      "execution_count": 0,
      "outputs": []
    },
    {
      "cell_type": "markdown",
      "metadata": {
        "id": "6CQxQFePv4Zo",
        "colab_type": "text"
      },
      "source": [
        "**#checking shape**"
      ]
    },
    {
      "cell_type": "code",
      "metadata": {
        "id": "0TGKdHBqsiv0",
        "colab_type": "code",
        "outputId": "7ee4b8d4-c21b-4535-9f78-d0aadd727484",
        "colab": {
          "base_uri": "https://localhost:8080/",
          "height": 35
        }
      },
      "source": [
        "#checking shape\n",
        "X = x_train\n",
        "X.shape"
      ],
      "execution_count": 0,
      "outputs": [
        {
          "output_type": "execute_result",
          "data": {
            "text/plain": [
              "(50000, 32, 32, 3)"
            ]
          },
          "metadata": {
            "tags": []
          },
          "execution_count": 7
        }
      ]
    },
    {
      "cell_type": "code",
      "metadata": {
        "id": "bvId5CkZJxqH",
        "colab_type": "code",
        "outputId": "517cce2a-b868-46b3-c5ba-623d146a2b36",
        "colab": {
          "base_uri": "https://localhost:8080/",
          "height": 287
        }
      },
      "source": [
        "plt.imshow(X[14000])"
      ],
      "execution_count": 0,
      "outputs": [
        {
          "output_type": "execute_result",
          "data": {
            "text/plain": [
              "<matplotlib.image.AxesImage at 0x7f1e104a2320>"
            ]
          },
          "metadata": {
            "tags": []
          },
          "execution_count": 8
        },
        {
          "output_type": "display_data",
          "data": {
            "image/png": "[encoded data removed]",
            "text/plain": [
              "<Figure size 432x288 with 1 Axes>"
            ]
          },
          "metadata": {
            "tags": []
          }
        }
      ]
    },
    {
      "cell_type": "markdown",
      "metadata": {
        "id": "yupO9wcYwINB",
        "colab_type": "text"
      },
      "source": [
        "**Declaring Parameters**"
      ]
    },
    {
      "cell_type": "code",
      "metadata": {
        "id": "BMf8eeHxskkf",
        "colab_type": "code",
        "colab": {}
      },
      "source": [
        "\n",
        "\n",
        "BATCHSIZE=64\n",
        "#Hyperperemeter\n",
        "LEARNING_RATE = 0.0002\n",
        "TRAINING_RATIO = 1\n",
        "#Momentum\n",
        "BETA_1 = 0.0\n",
        "BETA_2 = 0.9\n",
        "# No of epochs\n",
        "EPOCHS = 500\n",
        "#Batch NOrmalization Parameters\n",
        "BN_M = 0.1\n",
        "BN_E  = 0.00002\n",
        "GENERATE_ROW_NUM = 8\n",
        "GENERATE_BATCHSIZE = GENERATE_ROW_NUM*GENERATE_ROW_NUM\n",
        "\n",
        "#Generate FID for every 1000 steps\n",
        "FID_AT = 1000"
      ],
      "execution_count": 0,
      "outputs": []
    },
    {
      "cell_type": "markdown",
      "metadata": {
        "id": "M6LFsGI1wPJr",
        "colab_type": "text"
      },
      "source": [
        "**GENERATOR**"
      ]
    },
    {
      "cell_type": "code",
      "metadata": {
        "id": "Dzs_nhsksmke",
        "colab_type": "code",
        "colab": {}
      },
      "source": [
        "#GENERATOR\n",
        "def BuildGenerator():\n",
        "    model = Sequential()\n",
        "    \n",
        "    model.add(Dense(4*4*512, kernel_initializer='glorot_uniform' , input_dim=128))\n",
        "    model.add(Reshape((4,4,512)))\n",
        "    \n",
        "    \n",
        "    model.add(Conv2DTranspose(256, kernel_size=4, strides=2, padding='same', activation='relu',kernel_initializer='glorot_uniform'))\n",
        "    model.add(BatchNormalization(epsilon=BN_E, momentum=BN_M))\n",
        "    \n",
        "    model.add(Conv2DTranspose(128, kernel_size=4, strides=2, padding='same', activation='relu',kernel_initializer='glorot_uniform'))\n",
        "    model.add(BatchNormalization(epsilon=BN_E, momentum=BN_M))\n",
        "    \n",
        "    model.add(Conv2DTranspose(64,  kernel_size=4, strides=2, padding='same', activation='relu',kernel_initializer='glorot_uniform'))\n",
        "    model.add(BatchNormalization(epsilon=BN_E, momentum=BN_M))\n",
        "    # Final CNN layer         \n",
        "    model.add(Conv2DTranspose(3,   kernel_size=3, strides=1, padding='same', activation='tanh'))\n",
        "    model.summary()\n",
        "    return model"
      ],
      "execution_count": 0,
      "outputs": []
    },
    {
      "cell_type": "markdown",
      "metadata": {
        "id": "lDrkS9TtwSe4",
        "colab_type": "text"
      },
      "source": [
        "**DISCRIMINATOR**"
      ]
    },
    {
      "cell_type": "code",
      "metadata": {
        "id": "hsBHfbpVsoqC",
        "colab_type": "code",
        "colab": {}
      },
      "source": [
        "#DISCRIMINATOR\n",
        "def BuildDiscriminator():\n",
        "    model = Sequential()\n",
        "    model.add(Conv2D(64, kernel_size=3, strides=1,kernel_initializer='glorot_uniform', padding='same', input_shape=(32,32,3) ))\n",
        "    model.add(LeakyReLU(0.2))\n",
        "    \n",
        "    model.add(Conv2D(64, kernel_size=4, strides=2,kernel_initializer='glorot_uniform', padding='same'))\n",
        "    model.add(LeakyReLU(0.2))\n",
        "    \n",
        "    model.add(Conv2D(128, kernel_size=3, strides=1,kernel_initializer='glorot_uniform', padding='same'))\n",
        "    model.add(LeakyReLU(0.2))\n",
        "    \n",
        "    model.add(Conv2D(128, kernel_size=4, strides=2,kernel_initializer='glorot_uniform', padding='same'))\n",
        "    model.add(LeakyReLU(0.2))\n",
        "    \n",
        "    model.add(Conv2D(256, kernel_size=3, strides=1,kernel_initializer='glorot_uniform', padding='same'))\n",
        "    model.add(LeakyReLU(0.2))\n",
        "    \n",
        "    model.add(Conv2D(256, kernel_size=4, strides=2,kernel_initializer='glorot_uniform', padding='same'))\n",
        "    model.add(LeakyReLU(0.2))\n",
        "    \n",
        "    model.add(Conv2D(512, kernel_size=3, strides=1,kernel_initializer='glorot_uniform', padding='same'))\n",
        "    model.add(LeakyReLU(0.2))\n",
        "    \n",
        "    model.add(Flatten())\n",
        "    #classifier\n",
        "    model.add(Dense(1,kernel_initializer='glorot_uniform'))\n",
        "    model.add(Dense(1, activation='sigmoid',kernel_initializer='glorot_uniform'))\n",
        "    \n",
        "    model.summary()\n",
        "    return model"
      ],
      "execution_count": 0,
      "outputs": []
    },
    {
      "cell_type": "markdown",
      "metadata": {
        "id": "vRGb1hOVwW-N",
        "colab_type": "text"
      },
      "source": [
        "**Build generater && discrminator**"
      ]
    },
    {
      "cell_type": "code",
      "metadata": {
        "id": "6hTrUdI3sqrL",
        "colab_type": "code",
        "outputId": "00d25630-7860-4aaa-82f8-291279b98f73",
        "colab": {
          "base_uri": "https://localhost:8080/",
          "height": 1000
        }
      },
      "source": [
        "#Build generater\n",
        "generator = BuildGenerator()\n",
        "\n",
        "#Build discriminator\n",
        "discriminator = BuildDiscriminator()"
      ],
      "execution_count": 0,
      "outputs": [
        {
          "output_type": "stream",
          "text": [
            "WARNING:tensorflow:From /usr/local/lib/python3.6/dist-packages/keras/backend/tensorflow_backend.py:66: The name tf.get_default_graph is deprecated. Please use tf.compat.v1.get_default_graph instead.\n",
            "\n",
            "WARNING:tensorflow:From /usr/local/lib/python3.6/dist-packages/keras/backend/tensorflow_backend.py:541: The name tf.placeholder is deprecated. Please use tf.compat.v1.placeholder instead.\n",
            "\n",
            "WARNING:tensorflow:From /usr/local/lib/python3.6/dist-packages/keras/backend/tensorflow_backend.py:4432: The name tf.random_uniform is deprecated. Please use tf.random.uniform instead.\n",
            "\n",
            "WARNING:tensorflow:From /usr/local/lib/python3.6/dist-packages/keras/backend/tensorflow_backend.py:190: The name tf.get_default_session is deprecated. Please use tf.compat.v1.get_default_session instead.\n",
            "\n",
            "WARNING:tensorflow:From /usr/local/lib/python3.6/dist-packages/keras/backend/tensorflow_backend.py:207: The name tf.global_variables is deprecated. Please use tf.compat.v1.global_variables instead.\n",
            "\n",
            "WARNING:tensorflow:From /usr/local/lib/python3.6/dist-packages/keras/backend/tensorflow_backend.py:216: The name tf.is_variable_initialized is deprecated. Please use tf.compat.v1.is_variable_initialized instead.\n",
            "\n",
            "WARNING:tensorflow:From /usr/local/lib/python3.6/dist-packages/keras/backend/tensorflow_backend.py:223: The name tf.variables_initializer is deprecated. Please use tf.compat.v1.variables_initializer instead.\n",
            "\n",
            "WARNING:tensorflow:From /usr/local/lib/python3.6/dist-packages/keras/backend/tensorflow_backend.py:2041: The name tf.nn.fused_batch_norm is deprecated. Please use tf.compat.v1.nn.fused_batch_norm instead.\n",
            "\n",
            "WARNING:tensorflow:From /usr/local/lib/python3.6/dist-packages/keras/backend/tensorflow_backend.py:148: The name tf.placeholder_with_default is deprecated. Please use tf.compat.v1.placeholder_with_default instead.\n",
            "\n",
            "Model: \"sequential_1\"\n",
            "_________________________________________________________________\n",
            "Layer (type)                 Output Shape              Param #   \n",
            "=================================================================\n",
            "dense_1 (Dense)              (None, 8192)              1056768   \n",
            "_________________________________________________________________\n",
            "reshape_1 (Reshape)          (None, 4, 4, 512)         0         \n",
            "_________________________________________________________________\n",
            "conv2d_transpose_1 (Conv2DTr (None, 8, 8, 256)         2097408   \n",
            "_________________________________________________________________\n",
            "batch_normalization_1 (Batch (None, 8, 8, 256)         1024      \n",
            "_________________________________________________________________\n",
            "conv2d_transpose_2 (Conv2DTr (None, 16, 16, 128)       524416    \n",
            "_________________________________________________________________\n",
            "batch_normalization_2 (Batch (None, 16, 16, 128)       512       \n",
            "_________________________________________________________________\n",
            "conv2d_transpose_3 (Conv2DTr (None, 32, 32, 64)        131136    \n",
            "_________________________________________________________________\n",
            "batch_normalization_3 (Batch (None, 32, 32, 64)        256       \n",
            "_________________________________________________________________\n",
            "conv2d_transpose_4 (Conv2DTr (None, 32, 32, 3)         1731      \n",
            "=================================================================\n",
            "Total params: 3,813,251\n",
            "Trainable params: 3,812,355\n",
            "Non-trainable params: 896\n",
            "_________________________________________________________________\n",
            "Model: \"sequential_2\"\n",
            "_________________________________________________________________\n",
            "Layer (type)                 Output Shape              Param #   \n",
            "=================================================================\n",
            "conv2d_1 (Conv2D)            (None, 32, 32, 64)        1792      \n",
            "_________________________________________________________________\n",
            "leaky_re_lu_1 (LeakyReLU)    (None, 32, 32, 64)        0         \n",
            "_________________________________________________________________\n",
            "conv2d_2 (Conv2D)            (None, 16, 16, 64)        65600     \n",
            "_________________________________________________________________\n",
            "leaky_re_lu_2 (LeakyReLU)    (None, 16, 16, 64)        0         \n",
            "_________________________________________________________________\n",
            "conv2d_3 (Conv2D)            (None, 16, 16, 128)       73856     \n",
            "_________________________________________________________________\n",
            "leaky_re_lu_3 (LeakyReLU)    (None, 16, 16, 128)       0         \n",
            "_________________________________________________________________\n",
            "conv2d_4 (Conv2D)            (None, 8, 8, 128)         262272    \n",
            "_________________________________________________________________\n",
            "leaky_re_lu_4 (LeakyReLU)    (None, 8, 8, 128)         0         \n",
            "_________________________________________________________________\n",
            "conv2d_5 (Conv2D)            (None, 8, 8, 256)         295168    \n",
            "_________________________________________________________________\n",
            "leaky_re_lu_5 (LeakyReLU)    (None, 8, 8, 256)         0         \n",
            "_________________________________________________________________\n",
            "conv2d_6 (Conv2D)            (None, 4, 4, 256)         1048832   \n",
            "_________________________________________________________________\n",
            "leaky_re_lu_6 (LeakyReLU)    (None, 4, 4, 256)         0         \n",
            "_________________________________________________________________\n",
            "conv2d_7 (Conv2D)            (None, 4, 4, 512)         1180160   \n",
            "_________________________________________________________________\n",
            "leaky_re_lu_7 (LeakyReLU)    (None, 4, 4, 512)         0         \n",
            "_________________________________________________________________\n",
            "flatten_1 (Flatten)          (None, 8192)              0         \n",
            "_________________________________________________________________\n",
            "dense_2 (Dense)              (None, 1)                 8193      \n",
            "_________________________________________________________________\n",
            "dense_3 (Dense)              (None, 1)                 2         \n",
            "=================================================================\n",
            "Total params: 2,935,875\n",
            "Trainable params: 2,935,875\n",
            "Non-trainable params: 0\n",
            "_________________________________________________________________\n"
          ],
          "name": "stdout"
        }
      ]
    },
    {
      "cell_type": "markdown",
      "metadata": {
        "id": "mgZ6R7Mpwlm7",
        "colab_type": "text"
      },
      "source": [
        "**loading weights to generator and discriminator**"
      ]
    },
    {
      "cell_type": "code",
      "metadata": {
        "id": "auPHDsobwjqd",
        "colab_type": "code",
        "colab": {}
      },
      "source": [
        " # loading weights to generator and discriminator\n",
        "  # build the model before this step\n",
        "  discriminator.load_weights('/content/drive/My Drive/DeepProjects2/modeldiscriminator_model_weights_130.h5')\n",
        "  generator.load_weights('/content/drive/My Drive/DeepProjects2/modelgenerator_model_weights_130.h5')"
      ],
      "execution_count": 0,
      "outputs": []
    },
    {
      "cell_type": "markdown",
      "metadata": {
        "id": "rI0KIB39wvkK",
        "colab_type": "text"
      },
      "source": [
        "**Compling the Generator**"
      ]
    },
    {
      "cell_type": "code",
      "metadata": {
        "id": "wr7QPd0jNQeb",
        "colab_type": "code",
        "outputId": "246132fd-7d94-4e9a-f3b0-e2ec088f865a",
        "colab": {
          "base_uri": "https://localhost:8080/",
          "height": 419
        }
      },
      "source": [
        "#Fake input for generator\n",
        "Noise_input                        = Input(shape=(128,))\n",
        "#Calling Generator\n",
        "Generated_image                    = generator(Noise_input)\n",
        "#Calling Discrminator\n",
        "Discriminator_output               = discriminator(Generated_image)\n",
        "training_generator                 = Model(Noise_input, Discriminator_output)\n",
        "print(\"model_for_training_generator\")\n",
        "discriminator.trainable = False\n",
        "generator.trainable = True\n",
        "#compling the model\n",
        "training_generator.compile(optimizer=Adam(LEARNING_RATE, beta_1=BETA_1, beta_2=BETA_2), loss='binary_crossentropy')\n",
        "training_generator.summary()"
      ],
      "execution_count": 0,
      "outputs": [
        {
          "output_type": "stream",
          "text": [
            "model_for_training_generator\n",
            "WARNING:tensorflow:From /usr/local/lib/python3.6/dist-packages/keras/optimizers.py:793: The name tf.train.Optimizer is deprecated. Please use tf.compat.v1.train.Optimizer instead.\n",
            "\n",
            "WARNING:tensorflow:From /usr/local/lib/python3.6/dist-packages/keras/backend/tensorflow_backend.py:3657: The name tf.log is deprecated. Please use tf.math.log instead.\n",
            "\n",
            "WARNING:tensorflow:From /usr/local/lib/python3.6/dist-packages/tensorflow_core/python/ops/nn_impl.py:183: where (from tensorflow.python.ops.array_ops) is deprecated and will be removed in a future version.\n",
            "Instructions for updating:\n",
            "Use tf.where in 2.0, which has the same broadcast rule as np.where\n",
            "Model: \"model_1\"\n",
            "_________________________________________________________________\n",
            "Layer (type)                 Output Shape              Param #   \n",
            "=================================================================\n",
            "input_1 (InputLayer)         (None, 128)               0         \n",
            "_________________________________________________________________\n",
            "sequential_1 (Sequential)    (None, 32, 32, 3)         3813251   \n",
            "_________________________________________________________________\n",
            "sequential_2 (Sequential)    (None, 1)                 2935875   \n",
            "=================================================================\n",
            "Total params: 6,749,126\n",
            "Trainable params: 3,812,355\n",
            "Non-trainable params: 2,936,771\n",
            "_________________________________________________________________\n"
          ],
          "name": "stdout"
        }
      ]
    },
    {
      "cell_type": "markdown",
      "metadata": {
        "id": "ERXIK1T2w04w",
        "colab_type": "text"
      },
      "source": [
        "**compling Discriminator**"
      ]
    },
    {
      "cell_type": "code",
      "metadata": {
        "id": "InbjqGQ-TgL2",
        "colab_type": "code",
        "outputId": "6c23ddf9-45ca-40bb-c5f0-a5c5a1672b1b",
        "colab": {
          "base_uri": "https://localhost:8080/",
          "height": 243
        }
      },
      "source": [
        "image_input                             = Input(shape=(32,32,3))\n",
        "Discriminator_output                    = discriminator(image_input)\n",
        "\n",
        "training_discriminator                  = Model(image_input, Discriminator_output)\n",
        "print(\"model_for_training_discriminator\")\n",
        "discriminator.trainable = True\n",
        "#compling discrimator\n",
        "training_discriminator.compile(optimizer=Adam(LEARNING_RATE, beta_1=BETA_1, beta_2=BETA_2), loss='binary_crossentropy')\n",
        "training_discriminator.summary()"
      ],
      "execution_count": 0,
      "outputs": [
        {
          "output_type": "stream",
          "text": [
            "model_for_training_discriminator\n",
            "Model: \"model_2\"\n",
            "_________________________________________________________________\n",
            "Layer (type)                 Output Shape              Param #   \n",
            "=================================================================\n",
            "input_2 (InputLayer)         (None, 32, 32, 3)         0         \n",
            "_________________________________________________________________\n",
            "sequential_2 (Sequential)    (None, 1)                 2935875   \n",
            "=================================================================\n",
            "Total params: 2,935,875\n",
            "Trainable params: 2,935,875\n",
            "Non-trainable params: 0\n",
            "_________________________________________________________________\n"
          ],
          "name": "stdout"
        }
      ]
    },
    {
      "cell_type": "markdown",
      "metadata": {
        "id": "I2oF-cRnw-M4",
        "colab_type": "text"
      },
      "source": [
        "**Create fake and real Labels**"
      ]
    },
    {
      "cell_type": "code",
      "metadata": {
        "id": "WCfFQAnbs1DD",
        "colab_type": "code",
        "colab": {}
      },
      "source": [
        "real_y = np.ones((BATCHSIZE, 1), dtype=np.float32)\n",
        "fake_y = np.zeros((BATCHSIZE, 1), dtype=np.float32)"
      ],
      "execution_count": 0,
      "outputs": []
    },
    {
      "cell_type": "markdown",
      "metadata": {
        "id": "1o_-yL33_Lu_",
        "colab_type": "text"
      },
      "source": [
        "**Check Point**"
      ]
    },
    {
      "cell_type": "code",
      "metadata": {
        "id": "tsb9jbd3s3GV",
        "colab_type": "code",
        "colab": {}
      },
      "source": [
        "X = X/255*2-1"
      ],
      "execution_count": 0,
      "outputs": []
    },
    {
      "cell_type": "code",
      "metadata": {
        "id": "wTfTw-cas5JW",
        "colab_type": "code",
        "outputId": "0c418464-bcad-4563-e21a-351f1b0f66cb",
        "colab": {
          "base_uri": "https://localhost:8080/",
          "height": 287
        }
      },
      "source": [
        "plt.imshow((X[8787]+1)/2)"
      ],
      "execution_count": 0,
      "outputs": [
        {
          "output_type": "execute_result",
          "data": {
            "text/plain": [
              "<matplotlib.image.AxesImage at 0x7f1e10032b38>"
            ]
          },
          "metadata": {
            "tags": []
          },
          "execution_count": 18
        },
        {
          "output_type": "display_data",
          "data": {
            "image/png": "[encoded data removed]",
            "text/plain": [
              "<Figure size 432x288 with 1 Axes>"
            ]
          },
          "metadata": {
            "tags": []
          }
        }
      ]
    },
    {
      "cell_type": "markdown",
      "metadata": {
        "id": "L_y_3l6_xK8u",
        "colab_type": "text"
      },
      "source": [
        "**funtion to scale Images**"
      ]
    },
    {
      "cell_type": "code",
      "metadata": {
        "id": "fXdw8EESvS2t",
        "colab_type": "code",
        "colab": {}
      },
      "source": [
        "def scale_images(images, new_shape):\n",
        "\timages_list = list()\n",
        "\tfor image in images:\n",
        "\t\t# resize with nearest neighbor interpolation\n",
        "\t\tnew_image = resize(image, new_shape, 0)\n",
        "\t\t# store\n",
        "\t\timages_list.append(new_image)\n",
        "\treturn asarray(images_list)"
      ],
      "execution_count": 0,
      "outputs": []
    },
    {
      "cell_type": "markdown",
      "metadata": {
        "id": "JzguVFFwxV04",
        "colab_type": "text"
      },
      "source": [
        "**Function to save models**"
      ]
    },
    {
      "cell_type": "code",
      "metadata": {
        "id": "ARq_8Nzfss20",
        "colab_type": "code",
        "colab": {}
      },
      "source": [
        "logs_loss = open(SAVE_LOGS_DIR + \"logs_\" + str(18) + \".txt\", 'w')\n",
        "\n",
        "def save_models(generator, discriminator, gan, epoch_no, model_save_dir = model_save_dir):\n",
        "        discriminator.trainable = True\n",
        "        save_model(discriminator, model_save_dir + 'discriminator_model', epoch_no)\n",
        "        generator.trainable = True\n",
        "        save_model(generator, model_save_dir + 'generator_model', epoch_no)\n",
        "        discriminator.trainable = False\n",
        "        save_model(gan, model_save_dir + 'gan_model', epoch_no)\n",
        "        \n",
        "def save_model(model, model_path, epoch_no):\n",
        "        with open(str(model_path) + '_' + str(epoch_no) + '.json', 'w') as json_file:\n",
        "            json_file.write(model.to_json())\n",
        "\n",
        "        with open(str(model_path) + '.json', 'w') as json_file:\n",
        "            json_file.write(model.to_json())\n",
        "            \n",
        "        model.save_weights(str(model_path + '_' + \"weights_\" + str(epoch_no) + '.h5'))\n",
        "        model.save_weights(str(model_path + '_' + \"weights\" + '.h5'))\n",
        "        \n",
        "        model.save(str(model_path+ '.h5'))  # creates a HDF5 file 'my_model.h5'\n",
        "        \n",
        "        \n",
        "def log_write(file, data):\n",
        "    for values in data:\n",
        "        file.write(str(values) + '\\t')\n",
        "    file.write('\\n')"
      ],
      "execution_count": 0,
      "outputs": []
    },
    {
      "cell_type": "markdown",
      "metadata": {
        "id": "eVmgw8EnyGmU",
        "colab_type": "text"
      },
      "source": [
        "**Function to Generate FID**"
      ]
    },
    {
      "cell_type": "code",
      "metadata": {
        "id": "g6EqxESlyEfN",
        "colab_type": "code",
        "outputId": "fcafa1ea-1301-47ef-c82e-15366c0fc26a",
        "colab": {
          "base_uri": "https://localhost:8080/",
          "height": 141
        }
      },
      "source": [
        "#loading Inception\n",
        "inception = InceptionV3(include_top=False, pooling='avg', input_shape=(299, 299, 3))\n",
        "# mean1 and sigma1 for Xtest\n",
        "np.random.shuffle(x_test)\n",
        "n_batches = int(np.ceil(float(x_test.shape[0]) / BATCHSIZE))\n",
        "act = np.zeros([x_test.shape[0], 2048], dtype = np.float32)\n",
        "for i in range(n_batches):\n",
        "  inp = x_test[i * BATCHSIZE : (i + 1) * BATCHSIZE]\n",
        "  size = 299\n",
        "  inp = inp.astype('float32')\n",
        "  inp = scale_images(inp, (299,299,3))\n",
        "  inp = preprocess_input(inp)\n",
        "  activations = inception.predict(inp)\n",
        "  act[i * BATCHSIZE : i * BATCHSIZE + min(BATCHSIZE, inp.shape[0])] = activations\n",
        "f1 = act\n",
        "mean1, sigma1 = f1.mean(axis=0), np.cov(f1, rowvar=False)\n",
        "\n",
        "\n",
        "def generateFID():\n",
        "      samples = np.zeros((10000, 32, 32, 3))\n",
        "      noOf_batches = 20\n",
        "      n = 0\n",
        "      for btch in range(noOf_batches):\n",
        "          sample_fid = np.random.randn(500, 128)\n",
        "          samples[n:(n+500)] = generator.predict(sample_fid)\n",
        "          n += 500\n",
        "\n",
        "      samples = (samples + 1.) * 127.5\n",
        "\n",
        "     \n",
        "      #Generate Activations\n",
        "      n_batches = int(np.ceil(float(samples.shape[0]) / BATCHSIZE))\n",
        "      act = np.zeros([samples.shape[0], 2048], dtype = np.float32)\n",
        "      for i in range(n_batches):\n",
        "        inp = samples[i * BATCHSIZE : (i + 1) * BATCHSIZE]\n",
        "        size = 299\n",
        "        inp = inp.astype('float32')\n",
        "        inp = scale_images(inp, (299,299,3))\n",
        "        inp = preprocess_input(inp)\n",
        "        activations = inception.predict(inp)\n",
        "        act[i * BATCHSIZE : i * BATCHSIZE + min(BATCHSIZE, inp.shape[0])] = activations\n",
        "      f2 = act\n",
        "      mean2, sigma2 = f2.mean(axis=0), np.cov(f2, rowvar=False)\n",
        "      sum_sq_diff = np.sum((mean1 - mean2)**2)\n",
        "      cov_mean = sqrtm(sigma1.dot(sigma2))\n",
        "      if np.iscomplexobj(cov_mean):\n",
        "          cov_mean = cov_mean.real\n",
        "      fid = sum_sq_diff + np.trace(sigma1 + sigma2 - 2.0*cov_mean)\n",
        "      \n",
        "      return fid"
      ],
      "execution_count": 0,
      "outputs": [
        {
          "output_type": "stream",
          "text": [
            "WARNING:tensorflow:From /usr/local/lib/python3.6/dist-packages/keras/backend/tensorflow_backend.py:4267: The name tf.nn.max_pool is deprecated. Please use tf.nn.max_pool2d instead.\n",
            "\n",
            "WARNING:tensorflow:From /usr/local/lib/python3.6/dist-packages/keras/backend/tensorflow_backend.py:4271: The name tf.nn.avg_pool is deprecated. Please use tf.nn.avg_pool2d instead.\n",
            "\n",
            "Downloading data from https://github.com/fchollet/deep-learning-models/releases/download/v0.5/inception_v3_weights_tf_dim_ordering_tf_kernels_notop.h5\n",
            "87916544/87910968 [==============================] - 3s 0us/step\n"
          ],
          "name": "stdout"
        }
      ]
    },
    {
      "cell_type": "markdown",
      "metadata": {
        "id": "gMh2tlagxfUR",
        "colab_type": "text"
      },
      "source": [
        "**Run this cell to generate the image from generator**\n",
        "\n",
        "\n",
        "**NOTE:Do run the load weights cell above** "
      ]
    },
    {
      "cell_type": "code",
      "metadata": {
        "id": "yAluwTnuVtvg",
        "colab_type": "code",
        "outputId": "0fcdd24d-ac85-4977-c930-be674d67ece5",
        "colab": {
          "base_uri": "https://localhost:8080/",
          "height": 321
        }
      },
      "source": [
        " \n",
        "  #Compile the generator and discriminator\n",
        "  test_noise = np.random.randn(64, 128)  \n",
        "  generated_image = generator.predict(test_noise)\n",
        "  generated_image = (generated_image + 1)/2\n",
        "  \n",
        "  #plot image\n",
        "  for i in range(8):\n",
        "      new = generated_image[i*8:i*8+8].reshape(32*8,32,3)\n",
        "      if i!=0:\n",
        "          old = np.concatenate((old,new),axis=1)\n",
        "      else:\n",
        "          old = new\n",
        "  print('plot generated_image')\n",
        "  plt.imshow(old)\n",
        "  print('Generating FID please wait will take time as we are considering 10,000 images')\n",
        "  print(generateFID())"
      ],
      "execution_count": 0,
      "outputs": [
        {
          "output_type": "stream",
          "text": [
            "plot generated_image\n",
            "Generating FID please wait\n",
            "49.48185793393755\n"
          ],
          "name": "stdout"
        },
        {
          "output_type": "display_data",
          "data": {
            "image/png": "[encoded data removed]",
            "text/plain": [
              "<Figure size 432x288 with 1 Axes>"
            ]
          },
          "metadata": {
            "tags": []
          }
        }
      ]
    },
    {
      "cell_type": "markdown",
      "metadata": {
        "id": "nQbOguASxeEU",
        "colab_type": "text"
      },
      "source": [
        "**Train the discrminator and Generator**"
      ]
    },
    {
      "cell_type": "code",
      "metadata": {
        "id": "TaTTDH0Ayik_",
        "colab_type": "code",
        "outputId": "39ee41b0-96f0-4a13-df17-807902fd44b0",
        "colab": {
          "base_uri": "https://localhost:8080/",
          "height": 1000
        }
      },
      "source": [
        "test_noise = np.random.randn(GENERATE_BATCHSIZE, 128)\n",
        "\n",
        "Discriminator_real = []\n",
        "Discriminator_fake = []\n",
        "Discriminator_loss = []\n",
        "Generator_loss = []\n",
        "\n",
        "d_real_perepoch = []\n",
        "d_fake_perepoch = []\n",
        "d_loss_perepoch = []\n",
        "g_loss_perepoch = []\n",
        "\n",
        "FID = []\n",
        "fid = 0\n",
        "counter = 0\n",
        "for epoch in range(EPOCHS):\n",
        "    np.random.shuffle(X)\n",
        "    \n",
        "    print(\"epoch {} of {}\".format(epoch+1, EPOCHS))\n",
        "    num_batches = int(X.shape[0] // BATCHSIZE)\n",
        "    \n",
        "    print(\"number of batches: {}\".format(int(X.shape[0] // (BATCHSIZE))))\n",
        "    \n",
        "    progress_bar = Progbar(target=int(X.shape[0] // (BATCHSIZE * TRAINING_RATIO)), width=20)\n",
        "    minibatches_size = BATCHSIZE * TRAINING_RATIO\n",
        "    start_time = time()\n",
        "    for index in range(int(X.shape[0] // (BATCHSIZE * TRAINING_RATIO))):\n",
        "        progress_bar.update(index)\n",
        "        discriminator_minibatches = X[index * minibatches_size:(index + 1) * minibatches_size]\n",
        "        \n",
        "        for j in range(TRAINING_RATIO):\n",
        "            #Generate noise and predict discriminator\n",
        "            image_batch = discriminator_minibatches[j * BATCHSIZE : (j + 1) * BATCHSIZE]\n",
        "            noise = np.random.randn(BATCHSIZE, 128).astype(np.float32)\n",
        "            discriminator.trainable = True\n",
        "            generator.trainable = False\n",
        "            generated_image = generator.predict(noise)\n",
        "            # print(generated_image.shape)\n",
        "            \n",
        "            #Caluculating and storing the lossess\n",
        "            err_real = training_discriminator.train_on_batch(image_batch, real_y)\n",
        "            err_fake = training_discriminator.train_on_batch(generated_image, fake_y)\n",
        "            err_total = (err_real + err_fake)\n",
        "            Discriminator_loss.append(err_total)\n",
        "            Discriminator_real.append(err_real)\n",
        "            Discriminator_fake.append(err_fake)\n",
        "            \n",
        "            \n",
        "            \n",
        "        #training  generator\n",
        "        discriminator.trainable = False\n",
        "        generator.trainable = True\n",
        "        err_g = training_generator.train_on_batch(np.random.randn(BATCHSIZE, 128), real_y)\n",
        "        log_write(logs_loss, [err_real, err_fake, err_total, err_g])\n",
        "        Generator_loss.append(err_g)\n",
        "        counter +=1\n",
        "        if(np.mod(counter, FID_AT) == 0):\n",
        "            fid = generateFID()\n",
        "            FID.append(fid)\n",
        "            log_write(logs_loss, [FID])\n",
        "            if epoch != 0 and epoch % model_save_interval == 0:\n",
        "              save_models(generator, discriminator, training_discriminator, epoch)        \n",
        "    print('\\nepoch time: {}'.format(time()-start_time))\n",
        "    print(\"fid: {}\".format(fid))\n",
        "    \n",
        "    #Saving losses per Epoch\n",
        "    d_real_perepoch.append(err_real)\n",
        "    d_fake_perepoch.append(err_fake)\n",
        "    d_loss_perepoch.append(err_total)\n",
        "    g_loss_perepoch.append(err_g)\n",
        "\n",
        "    \n",
        "    print(\"d_real_loss:{} d_fake_loss:{} d_loss:{} g_loss:{}\".format(d_real_perepoch, d_fake_perepoch, d_loss_perepoch, g_loss_perepoch))\n",
        "\n",
        "    \n",
        "    \n",
        "    #Generate image\n",
        "    generated_image = generator.predict(test_noise)\n",
        "    generated_image = (generated_image + 1)/2\n",
        "    for i in range(GENERATE_ROW_NUM):\n",
        "        new = generated_image[i*GENERATE_ROW_NUM:i*GENERATE_ROW_NUM+GENERATE_ROW_NUM].reshape(32*GENERATE_ROW_NUM,32,3)\n",
        "        if i!=0:\n",
        "            old = np.concatenate((old,new),axis=1)\n",
        "        else:\n",
        "            old = new\n",
        "    print('plot generated_image')\n",
        "    plt.imsave(SAVE_IMG_DIR + 'SN_epoch_{}.png'.format(epoch), old)\n",
        "\n",
        "lossfile.close()\n",
        "\n",
        "\n",
        "    "
      ],
      "execution_count": 23,
      "outputs": [
        {
          "output_type": "stream",
          "text": [
            "epoch 1 of 500\n",
            "number of batches: 781\n",
            "\r  0/781 [....................] - ETA: 0sWARNING:tensorflow:From /usr/local/lib/python3.6/dist-packages/keras/backend/tensorflow_backend.py:1033: The name tf.assign_add is deprecated. Please use tf.compat.v1.assign_add instead.\n",
            "\n",
            "WARNING:tensorflow:From /usr/local/lib/python3.6/dist-packages/keras/backend/tensorflow_backend.py:1020: The name tf.assign is deprecated. Please use tf.compat.v1.assign instead.\n",
            "\n",
            "780/781 [==================>.] - ETA: 0s\n",
            "epoch time: 172.6858673095703\n",
            "fid: 0\n",
            "d_real_loss:[0.13365139] d_fake_loss:[0.05711007] d_loss:[0.19076146] g_loss:[6.573907]\n",
            "plot generated_image\n",
            "epoch 2 of 500\n",
            "number of batches: 781\n",
            "780/781 [==================>.] - ETA: 0s\n",
            "epoch time: 384.49621772766113\n",
            "fid: 47.30581898128553\n",
            "d_real_loss:[0.13365139, 0.0074397195] d_fake_loss:[0.05711007, 0.07111325] d_loss:[0.19076146, 0.07855297] g_loss:[6.573907, 6.915378]\n",
            "plot generated_image\n",
            "epoch 3 of 500\n",
            "number of batches: 781\n",
            "780/781 [==================>.] - ETA: 0s\n",
            "epoch time: 374.30656456947327\n",
            "fid: 54.525539424725224\n",
            "d_real_loss:[0.13365139, 0.0074397195, 0.06536681] d_fake_loss:[0.05711007, 0.07111325, 0.06535404] d_loss:[0.19076146, 0.07855297, 0.13072085] g_loss:[6.573907, 6.915378, 8.422886]\n",
            "plot generated_image\n",
            "epoch 4 of 500\n",
            "number of batches: 781\n",
            "780/781 [==================>.] - ETA: 0s\n",
            "epoch time: 389.01211738586426\n",
            "fid: 51.95299950347432\n",
            "d_real_loss:[0.13365139, 0.0074397195, 0.06536681, 0.03768977] d_fake_loss:[0.05711007, 0.07111325, 0.06535404, 0.36265785] d_loss:[0.19076146, 0.07855297, 0.13072085, 0.40034762] g_loss:[6.573907, 6.915378, 8.422886, 2.3102977]\n",
            "plot generated_image\n",
            "epoch 5 of 500\n",
            "number of batches: 781\n",
            "780/781 [==================>.] - ETA: 0s\n",
            "epoch time: 166.38719964027405\n",
            "fid: 51.95299950347432\n",
            "d_real_loss:[0.13365139, 0.0074397195, 0.06536681, 0.03768977, 0.04878055] d_fake_loss:[0.05711007, 0.07111325, 0.06535404, 0.36265785, 0.25235957] d_loss:[0.19076146, 0.07855297, 0.13072085, 0.40034762, 0.30114013] g_loss:[6.573907, 6.915378, 8.422886, 2.3102977, 6.0413995]\n",
            "plot generated_image\n",
            "epoch 6 of 500\n",
            "number of batches: 781\n",
            "780/781 [==================>.] - ETA: 0s\n",
            "epoch time: 379.34519362449646\n",
            "fid: 49.89072697614889\n",
            "d_real_loss:[0.13365139, 0.0074397195, 0.06536681, 0.03768977, 0.04878055, 0.005927317] d_fake_loss:[0.05711007, 0.07111325, 0.06535404, 0.36265785, 0.25235957, 0.14752212] d_loss:[0.19076146, 0.07855297, 0.13072085, 0.40034762, 0.30114013, 0.15344945] g_loss:[6.573907, 6.915378, 8.422886, 2.3102977, 6.0413995, 9.196514]\n",
            "plot generated_image\n",
            "epoch 7 of 500\n",
            "number of batches: 781\n",
            "780/781 [==================>.] - ETA: 0s\n",
            "epoch time: 388.3267295360565\n",
            "fid: 59.33487441431491\n",
            "d_real_loss:[0.13365139, 0.0074397195, 0.06536681, 0.03768977, 0.04878055, 0.005927317, 0.33901095] d_fake_loss:[0.05711007, 0.07111325, 0.06535404, 0.36265785, 0.25235957, 0.14752212, 0.023745632] d_loss:[0.19076146, 0.07855297, 0.13072085, 0.40034762, 0.30114013, 0.15344945, 0.36275658] g_loss:[6.573907, 6.915378, 8.422886, 2.3102977, 6.0413995, 9.196514, 6.827529]\n",
            "plot generated_image\n",
            "epoch 8 of 500\n",
            "number of batches: 781\n",
            "780/781 [==================>.] - ETA: 0s\n",
            "epoch time: 375.33441615104675\n",
            "fid: 53.319986665700455\n",
            "d_real_loss:[0.13365139, 0.0074397195, 0.06536681, 0.03768977, 0.04878055, 0.005927317, 0.33901095, 0.02129019] d_fake_loss:[0.05711007, 0.07111325, 0.06535404, 0.36265785, 0.25235957, 0.14752212, 0.023745632, 0.10856016] d_loss:[0.19076146, 0.07855297, 0.13072085, 0.40034762, 0.30114013, 0.15344945, 0.36275658, 0.12985036] g_loss:[6.573907, 6.915378, 8.422886, 2.3102977, 6.0413995, 9.196514, 6.827529, 9.906897]\n",
            "plot generated_image\n",
            "epoch 9 of 500\n",
            "number of batches: 781\n",
            "780/781 [==================>.] - ETA: 0s\n",
            "epoch time: 378.953670501709\n",
            "fid: 56.48996383920551\n",
            "d_real_loss:[0.13365139, 0.0074397195, 0.06536681, 0.03768977, 0.04878055, 0.005927317, 0.33901095, 0.02129019, 0.022670485] d_fake_loss:[0.05711007, 0.07111325, 0.06535404, 0.36265785, 0.25235957, 0.14752212, 0.023745632, 0.10856016, 0.31571817] d_loss:[0.19076146, 0.07855297, 0.13072085, 0.40034762, 0.30114013, 0.15344945, 0.36275658, 0.12985036, 0.33838865] g_loss:[6.573907, 6.915378, 8.422886, 2.3102977, 6.0413995, 9.196514, 6.827529, 9.906897, 2.6089993]\n",
            "plot generated_image\n",
            "epoch 10 of 500\n",
            "number of batches: 781\n",
            "780/781 [==================>.] - ETA: 0s\n",
            "epoch time: 166.5076620578766\n",
            "fid: 56.48996383920551\n",
            "d_real_loss:[0.13365139, 0.0074397195, 0.06536681, 0.03768977, 0.04878055, 0.005927317, 0.33901095, 0.02129019, 0.022670485, 0.046346113] d_fake_loss:[0.05711007, 0.07111325, 0.06535404, 0.36265785, 0.25235957, 0.14752212, 0.023745632, 0.10856016, 0.31571817, 0.14405216] d_loss:[0.19076146, 0.07855297, 0.13072085, 0.40034762, 0.30114013, 0.15344945, 0.36275658, 0.12985036, 0.33838865, 0.19039828] g_loss:[6.573907, 6.915378, 8.422886, 2.3102977, 6.0413995, 9.196514, 6.827529, 9.906897, 2.6089993, 7.890855]\n",
            "plot generated_image\n",
            "epoch 11 of 500\n",
            "number of batches: 781\n",
            "780/781 [==================>.] - ETA: 0s\n",
            "epoch time: 384.09160900115967\n",
            "fid: 63.18529708252612\n",
            "d_real_loss:[0.13365139, 0.0074397195, 0.06536681, 0.03768977, 0.04878055, 0.005927317, 0.33901095, 0.02129019, 0.022670485, 0.046346113, 0.04144156] d_fake_loss:[0.05711007, 0.07111325, 0.06535404, 0.36265785, 0.25235957, 0.14752212, 0.023745632, 0.10856016, 0.31571817, 0.14405216, 0.12261086] d_loss:[0.19076146, 0.07855297, 0.13072085, 0.40034762, 0.30114013, 0.15344945, 0.36275658, 0.12985036, 0.33838865, 0.19039828, 0.16405243] g_loss:[6.573907, 6.915378, 8.422886, 2.3102977, 6.0413995, 9.196514, 6.827529, 9.906897, 2.6089993, 7.890855, 9.31287]\n",
            "plot generated_image\n",
            "epoch 12 of 500\n",
            "number of batches: 781\n",
            "780/781 [==================>.] - ETA: 0s\n",
            "epoch time: 379.8732385635376\n",
            "fid: 60.44016239377557\n",
            "d_real_loss:[0.13365139, 0.0074397195, 0.06536681, 0.03768977, 0.04878055, 0.005927317, 0.33901095, 0.02129019, 0.022670485, 0.046346113, 0.04144156, 0.0070052] d_fake_loss:[0.05711007, 0.07111325, 0.06535404, 0.36265785, 0.25235957, 0.14752212, 0.023745632, 0.10856016, 0.31571817, 0.14405216, 0.12261086, 0.020101925] d_loss:[0.19076146, 0.07855297, 0.13072085, 0.40034762, 0.30114013, 0.15344945, 0.36275658, 0.12985036, 0.33838865, 0.19039828, 0.16405243, 0.027107125] g_loss:[6.573907, 6.915378, 8.422886, 2.3102977, 6.0413995, 9.196514, 6.827529, 9.906897, 2.6089993, 7.890855, 9.31287, 10.778833]\n",
            "plot generated_image\n",
            "epoch 13 of 500\n",
            "number of batches: 781\n",
            "780/781 [==================>.] - ETA: 0s\n",
            "epoch time: 379.93560910224915\n",
            "fid: 57.599462833026294\n",
            "d_real_loss:[0.13365139, 0.0074397195, 0.06536681, 0.03768977, 0.04878055, 0.005927317, 0.33901095, 0.02129019, 0.022670485, 0.046346113, 0.04144156, 0.0070052, 0.060663655] d_fake_loss:[0.05711007, 0.07111325, 0.06535404, 0.36265785, 0.25235957, 0.14752212, 0.023745632, 0.10856016, 0.31571817, 0.14405216, 0.12261086, 0.020101925, 0.050338004] d_loss:[0.19076146, 0.07855297, 0.13072085, 0.40034762, 0.30114013, 0.15344945, 0.36275658, 0.12985036, 0.33838865, 0.19039828, 0.16405243, 0.027107125, 0.111001655] g_loss:[6.573907, 6.915378, 8.422886, 2.3102977, 6.0413995, 9.196514, 6.827529, 9.906897, 2.6089993, 7.890855, 9.31287, 10.778833, 6.5859356]\n",
            "plot generated_image\n",
            "epoch 14 of 500\n",
            "number of batches: 781\n",
            "780/781 [==================>.] - ETA: 0s\n",
            "epoch time: 166.77569913864136\n",
            "fid: 57.599462833026294\n",
            "d_real_loss:[0.13365139, 0.0074397195, 0.06536681, 0.03768977, 0.04878055, 0.005927317, 0.33901095, 0.02129019, 0.022670485, 0.046346113, 0.04144156, 0.0070052, 0.060663655, 0.13482055] d_fake_loss:[0.05711007, 0.07111325, 0.06535404, 0.36265785, 0.25235957, 0.14752212, 0.023745632, 0.10856016, 0.31571817, 0.14405216, 0.12261086, 0.020101925, 0.050338004, 0.039139267] d_loss:[0.19076146, 0.07855297, 0.13072085, 0.40034762, 0.30114013, 0.15344945, 0.36275658, 0.12985036, 0.33838865, 0.19039828, 0.16405243, 0.027107125, 0.111001655, 0.17395982] g_loss:[6.573907, 6.915378, 8.422886, 2.3102977, 6.0413995, 9.196514, 6.827529, 9.906897, 2.6089993, 7.890855, 9.31287, 10.778833, 6.5859356, 7.944503]\n",
            "plot generated_image\n",
            "epoch 15 of 500\n",
            "number of batches: 781\n",
            "780/781 [==================>.] - ETA: 0s\n",
            "epoch time: 374.0886924266815\n",
            "fid: 57.547094374190834\n",
            "d_real_loss:[0.13365139, 0.0074397195, 0.06536681, 0.03768977, 0.04878055, 0.005927317, 0.33901095, 0.02129019, 0.022670485, 0.046346113, 0.04144156, 0.0070052, 0.060663655, 0.13482055, 0.13956253] d_fake_loss:[0.05711007, 0.07111325, 0.06535404, 0.36265785, 0.25235957, 0.14752212, 0.023745632, 0.10856016, 0.31571817, 0.14405216, 0.12261086, 0.020101925, 0.050338004, 0.039139267, 0.03463851] d_loss:[0.19076146, 0.07855297, 0.13072085, 0.40034762, 0.30114013, 0.15344945, 0.36275658, 0.12985036, 0.33838865, 0.19039828, 0.16405243, 0.027107125, 0.111001655, 0.17395982, 0.17420104] g_loss:[6.573907, 6.915378, 8.422886, 2.3102977, 6.0413995, 9.196514, 6.827529, 9.906897, 2.6089993, 7.890855, 9.31287, 10.778833, 6.5859356, 7.944503, 7.919255]\n",
            "plot generated_image\n",
            "epoch 16 of 500\n",
            "number of batches: 781\n",
            "780/781 [==================>.] - ETA: 0s\n",
            "epoch time: 373.1470413208008\n",
            "fid: 56.73245423768907\n",
            "d_real_loss:[0.13365139, 0.0074397195, 0.06536681, 0.03768977, 0.04878055, 0.005927317, 0.33901095, 0.02129019, 0.022670485, 0.046346113, 0.04144156, 0.0070052, 0.060663655, 0.13482055, 0.13956253, 0.021973804] d_fake_loss:[0.05711007, 0.07111325, 0.06535404, 0.36265785, 0.25235957, 0.14752212, 0.023745632, 0.10856016, 0.31571817, 0.14405216, 0.12261086, 0.020101925, 0.050338004, 0.039139267, 0.03463851, 0.014807826] d_loss:[0.19076146, 0.07855297, 0.13072085, 0.40034762, 0.30114013, 0.15344945, 0.36275658, 0.12985036, 0.33838865, 0.19039828, 0.16405243, 0.027107125, 0.111001655, 0.17395982, 0.17420104, 0.03678163] g_loss:[6.573907, 6.915378, 8.422886, 2.3102977, 6.0413995, 9.196514, 6.827529, 9.906897, 2.6089993, 7.890855, 9.31287, 10.778833, 6.5859356, 7.944503, 7.919255, 12.476722]\n",
            "plot generated_image\n",
            "epoch 17 of 500\n",
            "number of batches: 781\n",
            "780/781 [==================>.] - ETA: 0s\n",
            "epoch time: 374.7060127258301\n",
            "fid: 61.0983810517107\n",
            "d_real_loss:[0.13365139, 0.0074397195, 0.06536681, 0.03768977, 0.04878055, 0.005927317, 0.33901095, 0.02129019, 0.022670485, 0.046346113, 0.04144156, 0.0070052, 0.060663655, 0.13482055, 0.13956253, 0.021973804, 0.11978006] d_fake_loss:[0.05711007, 0.07111325, 0.06535404, 0.36265785, 0.25235957, 0.14752212, 0.023745632, 0.10856016, 0.31571817, 0.14405216, 0.12261086, 0.020101925, 0.050338004, 0.039139267, 0.03463851, 0.014807826, 0.03062408] d_loss:[0.19076146, 0.07855297, 0.13072085, 0.40034762, 0.30114013, 0.15344945, 0.36275658, 0.12985036, 0.33838865, 0.19039828, 0.16405243, 0.027107125, 0.111001655, 0.17395982, 0.17420104, 0.03678163, 0.15040414] g_loss:[6.573907, 6.915378, 8.422886, 2.3102977, 6.0413995, 9.196514, 6.827529, 9.906897, 2.6089993, 7.890855, 9.31287, 10.778833, 6.5859356, 7.944503, 7.919255, 12.476722, 9.032833]\n",
            "plot generated_image\n",
            "epoch 18 of 500\n",
            "number of batches: 781\n",
            "780/781 [==================>.] - ETA: 0s\n",
            "epoch time: 377.2532069683075\n",
            "fid: 58.40101376025738\n",
            "d_real_loss:[0.13365139, 0.0074397195, 0.06536681, 0.03768977, 0.04878055, 0.005927317, 0.33901095, 0.02129019, 0.022670485, 0.046346113, 0.04144156, 0.0070052, 0.060663655, 0.13482055, 0.13956253, 0.021973804, 0.11978006, 0.0068851337] d_fake_loss:[0.05711007, 0.07111325, 0.06535404, 0.36265785, 0.25235957, 0.14752212, 0.023745632, 0.10856016, 0.31571817, 0.14405216, 0.12261086, 0.020101925, 0.050338004, 0.039139267, 0.03463851, 0.014807826, 0.03062408, 0.023411168] d_loss:[0.19076146, 0.07855297, 0.13072085, 0.40034762, 0.30114013, 0.15344945, 0.36275658, 0.12985036, 0.33838865, 0.19039828, 0.16405243, 0.027107125, 0.111001655, 0.17395982, 0.17420104, 0.03678163, 0.15040414, 0.030296301] g_loss:[6.573907, 6.915378, 8.422886, 2.3102977, 6.0413995, 9.196514, 6.827529, 9.906897, 2.6089993, 7.890855, 9.31287, 10.778833, 6.5859356, 7.944503, 7.919255, 12.476722, 9.032833, 12.785681]\n",
            "plot generated_image\n",
            "epoch 19 of 500\n",
            "number of batches: 781\n",
            "780/781 [==================>.] - ETA: 0s\n",
            "epoch time: 169.08085989952087\n",
            "fid: 58.40101376025738\n",
            "d_real_loss:[0.13365139, 0.0074397195, 0.06536681, 0.03768977, 0.04878055, 0.005927317, 0.33901095, 0.02129019, 0.022670485, 0.046346113, 0.04144156, 0.0070052, 0.060663655, 0.13482055, 0.13956253, 0.021973804, 0.11978006, 0.0068851337, 0.03951629] d_fake_loss:[0.05711007, 0.07111325, 0.06535404, 0.36265785, 0.25235957, 0.14752212, 0.023745632, 0.10856016, 0.31571817, 0.14405216, 0.12261086, 0.020101925, 0.050338004, 0.039139267, 0.03463851, 0.014807826, 0.03062408, 0.023411168, 0.073004305] d_loss:[0.19076146, 0.07855297, 0.13072085, 0.40034762, 0.30114013, 0.15344945, 0.36275658, 0.12985036, 0.33838865, 0.19039828, 0.16405243, 0.027107125, 0.111001655, 0.17395982, 0.17420104, 0.03678163, 0.15040414, 0.030296301, 0.11252059] g_loss:[6.573907, 6.915378, 8.422886, 2.3102977, 6.0413995, 9.196514, 6.827529, 9.906897, 2.6089993, 7.890855, 9.31287, 10.778833, 6.5859356, 7.944503, 7.919255, 12.476722, 9.032833, 12.785681, 7.0990644]\n",
            "plot generated_image\n",
            "epoch 20 of 500\n",
            "number of batches: 781\n",
            "780/781 [==================>.] - ETA: 0s\n",
            "epoch time: 375.98000264167786\n",
            "fid: 57.18604727793576\n",
            "d_real_loss:[0.13365139, 0.0074397195, 0.06536681, 0.03768977, 0.04878055, 0.005927317, 0.33901095, 0.02129019, 0.022670485, 0.046346113, 0.04144156, 0.0070052, 0.060663655, 0.13482055, 0.13956253, 0.021973804, 0.11978006, 0.0068851337, 0.03951629, 0.13659245] d_fake_loss:[0.05711007, 0.07111325, 0.06535404, 0.36265785, 0.25235957, 0.14752212, 0.023745632, 0.10856016, 0.31571817, 0.14405216, 0.12261086, 0.020101925, 0.050338004, 0.039139267, 0.03463851, 0.014807826, 0.03062408, 0.023411168, 0.073004305, 0.07564901] d_loss:[0.19076146, 0.07855297, 0.13072085, 0.40034762, 0.30114013, 0.15344945, 0.36275658, 0.12985036, 0.33838865, 0.19039828, 0.16405243, 0.027107125, 0.111001655, 0.17395982, 0.17420104, 0.03678163, 0.15040414, 0.030296301, 0.11252059, 0.21224146] g_loss:[6.573907, 6.915378, 8.422886, 2.3102977, 6.0413995, 9.196514, 6.827529, 9.906897, 2.6089993, 7.890855, 9.31287, 10.778833, 6.5859356, 7.944503, 7.919255, 12.476722, 9.032833, 12.785681, 7.0990644, 11.346375]\n",
            "plot generated_image\n",
            "epoch 21 of 500\n",
            "number of batches: 781\n",
            "780/781 [==================>.] - ETA: 0s\n",
            "epoch time: 376.7208070755005\n",
            "fid: 58.09651804834603\n",
            "d_real_loss:[0.13365139, 0.0074397195, 0.06536681, 0.03768977, 0.04878055, 0.005927317, 0.33901095, 0.02129019, 0.022670485, 0.046346113, 0.04144156, 0.0070052, 0.060663655, 0.13482055, 0.13956253, 0.021973804, 0.11978006, 0.0068851337, 0.03951629, 0.13659245, 0.04805148] d_fake_loss:[0.05711007, 0.07111325, 0.06535404, 0.36265785, 0.25235957, 0.14752212, 0.023745632, 0.10856016, 0.31571817, 0.14405216, 0.12261086, 0.020101925, 0.050338004, 0.039139267, 0.03463851, 0.014807826, 0.03062408, 0.023411168, 0.073004305, 0.07564901, 0.02285096] d_loss:[0.19076146, 0.07855297, 0.13072085, 0.40034762, 0.30114013, 0.15344945, 0.36275658, 0.12985036, 0.33838865, 0.19039828, 0.16405243, 0.027107125, 0.111001655, 0.17395982, 0.17420104, 0.03678163, 0.15040414, 0.030296301, 0.11252059, 0.21224146, 0.07090244] g_loss:[6.573907, 6.915378, 8.422886, 2.3102977, 6.0413995, 9.196514, 6.827529, 9.906897, 2.6089993, 7.890855, 9.31287, 10.778833, 6.5859356, 7.944503, 7.919255, 12.476722, 9.032833, 12.785681, 7.0990644, 11.346375, 10.095174]\n",
            "plot generated_image\n",
            "epoch 22 of 500\n",
            "number of batches: 781\n",
            "780/781 [==================>.] - ETA: 0s\n",
            "epoch time: 375.8982639312744\n",
            "fid: 53.61137257686813\n",
            "d_real_loss:[0.13365139, 0.0074397195, 0.06536681, 0.03768977, 0.04878055, 0.005927317, 0.33901095, 0.02129019, 0.022670485, 0.046346113, 0.04144156, 0.0070052, 0.060663655, 0.13482055, 0.13956253, 0.021973804, 0.11978006, 0.0068851337, 0.03951629, 0.13659245, 0.04805148, 0.01825744] d_fake_loss:[0.05711007, 0.07111325, 0.06535404, 0.36265785, 0.25235957, 0.14752212, 0.023745632, 0.10856016, 0.31571817, 0.14405216, 0.12261086, 0.020101925, 0.050338004, 0.039139267, 0.03463851, 0.014807826, 0.03062408, 0.023411168, 0.073004305, 0.07564901, 0.02285096, 0.023805993] d_loss:[0.19076146, 0.07855297, 0.13072085, 0.40034762, 0.30114013, 0.15344945, 0.36275658, 0.12985036, 0.33838865, 0.19039828, 0.16405243, 0.027107125, 0.111001655, 0.17395982, 0.17420104, 0.03678163, 0.15040414, 0.030296301, 0.11252059, 0.21224146, 0.07090244, 0.04206343] g_loss:[6.573907, 6.915378, 8.422886, 2.3102977, 6.0413995, 9.196514, 6.827529, 9.906897, 2.6089993, 7.890855, 9.31287, 10.778833, 6.5859356, 7.944503, 7.919255, 12.476722, 9.032833, 12.785681, 7.0990644, 11.346375, 10.095174, 8.952334]\n",
            "plot generated_image\n",
            "epoch 23 of 500\n",
            "number of batches: 781\n",
            "780/781 [==================>.] - ETA: 0s\n",
            "epoch time: 168.0536594390869\n",
            "fid: 53.61137257686813\n",
            "d_real_loss:[0.13365139, 0.0074397195, 0.06536681, 0.03768977, 0.04878055, 0.005927317, 0.33901095, 0.02129019, 0.022670485, 0.046346113, 0.04144156, 0.0070052, 0.060663655, 0.13482055, 0.13956253, 0.021973804, 0.11978006, 0.0068851337, 0.03951629, 0.13659245, 0.04805148, 0.01825744, 0.012104642] d_fake_loss:[0.05711007, 0.07111325, 0.06535404, 0.36265785, 0.25235957, 0.14752212, 0.023745632, 0.10856016, 0.31571817, 0.14405216, 0.12261086, 0.020101925, 0.050338004, 0.039139267, 0.03463851, 0.014807826, 0.03062408, 0.023411168, 0.073004305, 0.07564901, 0.02285096, 0.023805993, 0.06581776] d_loss:[0.19076146, 0.07855297, 0.13072085, 0.40034762, 0.30114013, 0.15344945, 0.36275658, 0.12985036, 0.33838865, 0.19039828, 0.16405243, 0.027107125, 0.111001655, 0.17395982, 0.17420104, 0.03678163, 0.15040414, 0.030296301, 0.11252059, 0.21224146, 0.07090244, 0.04206343, 0.077922404] g_loss:[6.573907, 6.915378, 8.422886, 2.3102977, 6.0413995, 9.196514, 6.827529, 9.906897, 2.6089993, 7.890855, 9.31287, 10.778833, 6.5859356, 7.944503, 7.919255, 12.476722, 9.032833, 12.785681, 7.0990644, 11.346375, 10.095174, 8.952334, 11.563301]\n",
            "plot generated_image\n",
            "epoch 24 of 500\n",
            "number of batches: 781\n",
            "780/781 [==================>.] - ETA: 0s\n",
            "epoch time: 375.5448341369629\n",
            "fid: 56.78781284013755\n",
            "d_real_loss:[0.13365139, 0.0074397195, 0.06536681, 0.03768977, 0.04878055, 0.005927317, 0.33901095, 0.02129019, 0.022670485, 0.046346113, 0.04144156, 0.0070052, 0.060663655, 0.13482055, 0.13956253, 0.021973804, 0.11978006, 0.0068851337, 0.03951629, 0.13659245, 0.04805148, 0.01825744, 0.012104642, 0.032687288] d_fake_loss:[0.05711007, 0.07111325, 0.06535404, 0.36265785, 0.25235957, 0.14752212, 0.023745632, 0.10856016, 0.31571817, 0.14405216, 0.12261086, 0.020101925, 0.050338004, 0.039139267, 0.03463851, 0.014807826, 0.03062408, 0.023411168, 0.073004305, 0.07564901, 0.02285096, 0.023805993, 0.06581776, 0.0053334367] d_loss:[0.19076146, 0.07855297, 0.13072085, 0.40034762, 0.30114013, 0.15344945, 0.36275658, 0.12985036, 0.33838865, 0.19039828, 0.16405243, 0.027107125, 0.111001655, 0.17395982, 0.17420104, 0.03678163, 0.15040414, 0.030296301, 0.11252059, 0.21224146, 0.07090244, 0.04206343, 0.077922404, 0.038020723] g_loss:[6.573907, 6.915378, 8.422886, 2.3102977, 6.0413995, 9.196514, 6.827529, 9.906897, 2.6089993, 7.890855, 9.31287, 10.778833, 6.5859356, 7.944503, 7.919255, 12.476722, 9.032833, 12.785681, 7.0990644, 11.346375, 10.095174, 8.952334, 11.563301, 8.365496]\n",
            "plot generated_image\n",
            "epoch 25 of 500\n",
            "number of batches: 781\n",
            "780/781 [==================>.] - ETA: 0s\n",
            "epoch time: 375.0300886631012\n",
            "fid: 61.004194351101745\n",
            "d_real_loss:[0.13365139, 0.0074397195, 0.06536681, 0.03768977, 0.04878055, 0.005927317, 0.33901095, 0.02129019, 0.022670485, 0.046346113, 0.04144156, 0.0070052, 0.060663655, 0.13482055, 0.13956253, 0.021973804, 0.11978006, 0.0068851337, 0.03951629, 0.13659245, 0.04805148, 0.01825744, 0.012104642, 0.032687288, 0.05616173] d_fake_loss:[0.05711007, 0.07111325, 0.06535404, 0.36265785, 0.25235957, 0.14752212, 0.023745632, 0.10856016, 0.31571817, 0.14405216, 0.12261086, 0.020101925, 0.050338004, 0.039139267, 0.03463851, 0.014807826, 0.03062408, 0.023411168, 0.073004305, 0.07564901, 0.02285096, 0.023805993, 0.06581776, 0.0053334367, 0.083187625] d_loss:[0.19076146, 0.07855297, 0.13072085, 0.40034762, 0.30114013, 0.15344945, 0.36275658, 0.12985036, 0.33838865, 0.19039828, 0.16405243, 0.027107125, 0.111001655, 0.17395982, 0.17420104, 0.03678163, 0.15040414, 0.030296301, 0.11252059, 0.21224146, 0.07090244, 0.04206343, 0.077922404, 0.038020723, 0.13934936] g_loss:[6.573907, 6.915378, 8.422886, 2.3102977, 6.0413995, 9.196514, 6.827529, 9.906897, 2.6089993, 7.890855, 9.31287, 10.778833, 6.5859356, 7.944503, 7.919255, 12.476722, 9.032833, 12.785681, 7.0990644, 11.346375, 10.095174, 8.952334, 11.563301, 8.365496, 9.009474]\n",
            "plot generated_image\n",
            "epoch 26 of 500\n",
            "number of batches: 781\n",
            "780/781 [==================>.] - ETA: 0s\n",
            "epoch time: 377.98628091812134\n",
            "fid: 61.285416137020626\n",
            "d_real_loss:[0.13365139, 0.0074397195, 0.06536681, 0.03768977, 0.04878055, 0.005927317, 0.33901095, 0.02129019, 0.022670485, 0.046346113, 0.04144156, 0.0070052, 0.060663655, 0.13482055, 0.13956253, 0.021973804, 0.11978006, 0.0068851337, 0.03951629, 0.13659245, 0.04805148, 0.01825744, 0.012104642, 0.032687288, 0.05616173, 0.0072382335] d_fake_loss:[0.05711007, 0.07111325, 0.06535404, 0.36265785, 0.25235957, 0.14752212, 0.023745632, 0.10856016, 0.31571817, 0.14405216, 0.12261086, 0.020101925, 0.050338004, 0.039139267, 0.03463851, 0.014807826, 0.03062408, 0.023411168, 0.073004305, 0.07564901, 0.02285096, 0.023805993, 0.06581776, 0.0053334367, 0.083187625, 0.12846677] d_loss:[0.19076146, 0.07855297, 0.13072085, 0.40034762, 0.30114013, 0.15344945, 0.36275658, 0.12985036, 0.33838865, 0.19039828, 0.16405243, 0.027107125, 0.111001655, 0.17395982, 0.17420104, 0.03678163, 0.15040414, 0.030296301, 0.11252059, 0.21224146, 0.07090244, 0.04206343, 0.077922404, 0.038020723, 0.13934936, 0.13570501] g_loss:[6.573907, 6.915378, 8.422886, 2.3102977, 6.0413995, 9.196514, 6.827529, 9.906897, 2.6089993, 7.890855, 9.31287, 10.778833, 6.5859356, 7.944503, 7.919255, 12.476722, 9.032833, 12.785681, 7.0990644, 11.346375, 10.095174, 8.952334, 11.563301, 8.365496, 9.009474, 5.677304]\n",
            "plot generated_image\n",
            "epoch 27 of 500\n",
            "number of batches: 781\n",
            "693/781 [================>...] - ETA: 18s"
          ],
          "name": "stdout"
        },
        {
          "output_type": "error",
          "ename": "KeyboardInterrupt",
          "evalue": "ignored",
          "traceback": [
            "\u001b[0;31m---------------------------------------------------------------------------\u001b[0m",
            "\u001b[0;31mKeyboardInterrupt\u001b[0m                         Traceback (most recent call last)",
            "\u001b[0;32m<ipython-input-23-c5a17e24a94b>\u001b[0m in \u001b[0;36m<module>\u001b[0;34m()\u001b[0m\n\u001b[1;32m     56\u001b[0m         \u001b[0mcounter\u001b[0m \u001b[0;34m+=\u001b[0m\u001b[0;36m1\u001b[0m\u001b[0;34m\u001b[0m\u001b[0;34m\u001b[0m\u001b[0m\n\u001b[1;32m     57\u001b[0m         \u001b[0;32mif\u001b[0m\u001b[0;34m(\u001b[0m\u001b[0mnp\u001b[0m\u001b[0;34m.\u001b[0m\u001b[0mmod\u001b[0m\u001b[0;34m(\u001b[0m\u001b[0mcounter\u001b[0m\u001b[0;34m,\u001b[0m \u001b[0mFID_AT\u001b[0m\u001b[0;34m)\u001b[0m \u001b[0;34m==\u001b[0m \u001b[0;36m0\u001b[0m\u001b[0;34m)\u001b[0m\u001b[0;34m:\u001b[0m\u001b[0;34m\u001b[0m\u001b[0;34m\u001b[0m\u001b[0m\n\u001b[0;32m---> 58\u001b[0;31m             \u001b[0mfid\u001b[0m \u001b[0;34m=\u001b[0m \u001b[0mgenerateFID\u001b[0m\u001b[0;34m(\u001b[0m\u001b[0;34m)\u001b[0m\u001b[0;34m\u001b[0m\u001b[0;34m\u001b[0m\u001b[0m\n\u001b[0m\u001b[1;32m     59\u001b[0m             \u001b[0mFID\u001b[0m\u001b[0;34m.\u001b[0m\u001b[0mappend\u001b[0m\u001b[0;34m(\u001b[0m\u001b[0mfid\u001b[0m\u001b[0;34m)\u001b[0m\u001b[0;34m\u001b[0m\u001b[0;34m\u001b[0m\u001b[0m\n\u001b[1;32m     60\u001b[0m             \u001b[0mlog_write\u001b[0m\u001b[0;34m(\u001b[0m\u001b[0mlogs_loss\u001b[0m\u001b[0;34m,\u001b[0m \u001b[0;34m[\u001b[0m\u001b[0mFID\u001b[0m\u001b[0;34m]\u001b[0m\u001b[0;34m)\u001b[0m\u001b[0;34m\u001b[0m\u001b[0;34m\u001b[0m\u001b[0m\n",
            "\u001b[0;32m<ipython-input-21-02ce1aaff5ca>\u001b[0m in \u001b[0;36mgenerateFID\u001b[0;34m()\u001b[0m\n\u001b[1;32m     37\u001b[0m         \u001b[0minp\u001b[0m \u001b[0;34m=\u001b[0m \u001b[0mscale_images\u001b[0m\u001b[0;34m(\u001b[0m\u001b[0minp\u001b[0m\u001b[0;34m,\u001b[0m \u001b[0;34m(\u001b[0m\u001b[0;36m299\u001b[0m\u001b[0;34m,\u001b[0m\u001b[0;36m299\u001b[0m\u001b[0;34m,\u001b[0m\u001b[0;36m3\u001b[0m\u001b[0;34m)\u001b[0m\u001b[0;34m)\u001b[0m\u001b[0;34m\u001b[0m\u001b[0;34m\u001b[0m\u001b[0m\n\u001b[1;32m     38\u001b[0m         \u001b[0minp\u001b[0m \u001b[0;34m=\u001b[0m \u001b[0mpreprocess_input\u001b[0m\u001b[0;34m(\u001b[0m\u001b[0minp\u001b[0m\u001b[0;34m)\u001b[0m\u001b[0;34m\u001b[0m\u001b[0;34m\u001b[0m\u001b[0m\n\u001b[0;32m---> 39\u001b[0;31m         \u001b[0mactivations\u001b[0m \u001b[0;34m=\u001b[0m \u001b[0minception\u001b[0m\u001b[0;34m.\u001b[0m\u001b[0mpredict\u001b[0m\u001b[0;34m(\u001b[0m\u001b[0minp\u001b[0m\u001b[0;34m)\u001b[0m\u001b[0;34m\u001b[0m\u001b[0;34m\u001b[0m\u001b[0m\n\u001b[0m\u001b[1;32m     40\u001b[0m         \u001b[0mact\u001b[0m\u001b[0;34m[\u001b[0m\u001b[0mi\u001b[0m \u001b[0;34m*\u001b[0m \u001b[0mBATCHSIZE\u001b[0m \u001b[0;34m:\u001b[0m \u001b[0mi\u001b[0m \u001b[0;34m*\u001b[0m \u001b[0mBATCHSIZE\u001b[0m \u001b[0;34m+\u001b[0m \u001b[0mmin\u001b[0m\u001b[0;34m(\u001b[0m\u001b[0mBATCHSIZE\u001b[0m\u001b[0;34m,\u001b[0m \u001b[0minp\u001b[0m\u001b[0;34m.\u001b[0m\u001b[0mshape\u001b[0m\u001b[0;34m[\u001b[0m\u001b[0;36m0\u001b[0m\u001b[0;34m]\u001b[0m\u001b[0;34m)\u001b[0m\u001b[0;34m]\u001b[0m \u001b[0;34m=\u001b[0m \u001b[0mactivations\u001b[0m\u001b[0;34m\u001b[0m\u001b[0;34m\u001b[0m\u001b[0m\n\u001b[1;32m     41\u001b[0m       \u001b[0mf2\u001b[0m \u001b[0;34m=\u001b[0m \u001b[0mact\u001b[0m\u001b[0;34m\u001b[0m\u001b[0;34m\u001b[0m\u001b[0m\n",
            "\u001b[0;32m/usr/local/lib/python3.6/dist-packages/keras/engine/training.py\u001b[0m in \u001b[0;36mpredict\u001b[0;34m(self, x, batch_size, verbose, steps, callbacks, max_queue_size, workers, use_multiprocessing)\u001b[0m\n\u001b[1;32m   1399\u001b[0m                                             \u001b[0mverbose\u001b[0m\u001b[0;34m=\u001b[0m\u001b[0mverbose\u001b[0m\u001b[0;34m,\u001b[0m\u001b[0;34m\u001b[0m\u001b[0;34m\u001b[0m\u001b[0m\n\u001b[1;32m   1400\u001b[0m                                             \u001b[0msteps\u001b[0m\u001b[0;34m=\u001b[0m\u001b[0msteps\u001b[0m\u001b[0;34m,\u001b[0m\u001b[0;34m\u001b[0m\u001b[0;34m\u001b[0m\u001b[0m\n\u001b[0;32m-> 1401\u001b[0;31m                                             callbacks=callbacks)\n\u001b[0m\u001b[1;32m   1402\u001b[0m \u001b[0;34m\u001b[0m\u001b[0m\n\u001b[1;32m   1403\u001b[0m     def train_on_batch(self, x, y,\n",
            "\u001b[0;32m/usr/local/lib/python3.6/dist-packages/keras/engine/training_arrays.py\u001b[0m in \u001b[0;36mpredict_loop\u001b[0;34m(model, f, ins, batch_size, verbose, steps, callbacks)\u001b[0m\n\u001b[1;32m    330\u001b[0m             \u001b[0mbatch_logs\u001b[0m \u001b[0;34m=\u001b[0m \u001b[0;34m{\u001b[0m\u001b[0;34m'batch'\u001b[0m\u001b[0;34m:\u001b[0m \u001b[0mbatch_index\u001b[0m\u001b[0;34m,\u001b[0m \u001b[0;34m'size'\u001b[0m\u001b[0;34m:\u001b[0m \u001b[0mlen\u001b[0m\u001b[0;34m(\u001b[0m\u001b[0mbatch_ids\u001b[0m\u001b[0;34m)\u001b[0m\u001b[0;34m}\u001b[0m\u001b[0;34m\u001b[0m\u001b[0;34m\u001b[0m\u001b[0m\n\u001b[1;32m    331\u001b[0m             \u001b[0mcallbacks\u001b[0m\u001b[0;34m.\u001b[0m\u001b[0m_call_batch_hook\u001b[0m\u001b[0;34m(\u001b[0m\u001b[0;34m'predict'\u001b[0m\u001b[0;34m,\u001b[0m \u001b[0;34m'begin'\u001b[0m\u001b[0;34m,\u001b[0m \u001b[0mbatch_index\u001b[0m\u001b[0;34m,\u001b[0m \u001b[0mbatch_logs\u001b[0m\u001b[0;34m)\u001b[0m\u001b[0;34m\u001b[0m\u001b[0;34m\u001b[0m\u001b[0m\n\u001b[0;32m--> 332\u001b[0;31m             \u001b[0mbatch_outs\u001b[0m \u001b[0;34m=\u001b[0m \u001b[0mf\u001b[0m\u001b[0;34m(\u001b[0m\u001b[0mins_batch\u001b[0m\u001b[0;34m)\u001b[0m\u001b[0;34m\u001b[0m\u001b[0;34m\u001b[0m\u001b[0m\n\u001b[0m\u001b[1;32m    333\u001b[0m             \u001b[0mbatch_outs\u001b[0m \u001b[0;34m=\u001b[0m \u001b[0mto_list\u001b[0m\u001b[0;34m(\u001b[0m\u001b[0mbatch_outs\u001b[0m\u001b[0;34m)\u001b[0m\u001b[0;34m\u001b[0m\u001b[0;34m\u001b[0m\u001b[0m\n\u001b[1;32m    334\u001b[0m             \u001b[0;32mif\u001b[0m \u001b[0mbatch_index\u001b[0m \u001b[0;34m==\u001b[0m \u001b[0;36m0\u001b[0m\u001b[0;34m:\u001b[0m\u001b[0;34m\u001b[0m\u001b[0;34m\u001b[0m\u001b[0m\n",
            "\u001b[0;32m/usr/local/lib/python3.6/dist-packages/keras/backend/tensorflow_backend.py\u001b[0m in \u001b[0;36m__call__\u001b[0;34m(self, inputs)\u001b[0m\n\u001b[1;32m   2977\u001b[0m                     \u001b[0;32mreturn\u001b[0m \u001b[0mself\u001b[0m\u001b[0;34m.\u001b[0m\u001b[0m_legacy_call\u001b[0m\u001b[0;34m(\u001b[0m\u001b[0minputs\u001b[0m\u001b[0;34m)\u001b[0m\u001b[0;34m\u001b[0m\u001b[0;34m\u001b[0m\u001b[0m\n\u001b[1;32m   2978\u001b[0m \u001b[0;34m\u001b[0m\u001b[0m\n\u001b[0;32m-> 2979\u001b[0;31m             \u001b[0;32mreturn\u001b[0m \u001b[0mself\u001b[0m\u001b[0;34m.\u001b[0m\u001b[0m_call\u001b[0m\u001b[0;34m(\u001b[0m\u001b[0minputs\u001b[0m\u001b[0;34m)\u001b[0m\u001b[0;34m\u001b[0m\u001b[0;34m\u001b[0m\u001b[0m\n\u001b[0m\u001b[1;32m   2980\u001b[0m         \u001b[0;32melse\u001b[0m\u001b[0;34m:\u001b[0m\u001b[0;34m\u001b[0m\u001b[0;34m\u001b[0m\u001b[0m\n\u001b[1;32m   2981\u001b[0m             \u001b[0;32mif\u001b[0m \u001b[0mpy_any\u001b[0m\u001b[0;34m(\u001b[0m\u001b[0mis_tensor\u001b[0m\u001b[0;34m(\u001b[0m\u001b[0mx\u001b[0m\u001b[0;34m)\u001b[0m \u001b[0;32mfor\u001b[0m \u001b[0mx\u001b[0m \u001b[0;32min\u001b[0m \u001b[0minputs\u001b[0m\u001b[0;34m)\u001b[0m\u001b[0;34m:\u001b[0m\u001b[0;34m\u001b[0m\u001b[0;34m\u001b[0m\u001b[0m\n",
            "\u001b[0;32m/usr/local/lib/python3.6/dist-packages/keras/backend/tensorflow_backend.py\u001b[0m in \u001b[0;36m_call\u001b[0;34m(self, inputs)\u001b[0m\n\u001b[1;32m   2935\u001b[0m             \u001b[0mfetched\u001b[0m \u001b[0;34m=\u001b[0m \u001b[0mself\u001b[0m\u001b[0;34m.\u001b[0m\u001b[0m_callable_fn\u001b[0m\u001b[0;34m(\u001b[0m\u001b[0;34m*\u001b[0m\u001b[0marray_vals\u001b[0m\u001b[0;34m,\u001b[0m \u001b[0mrun_metadata\u001b[0m\u001b[0;34m=\u001b[0m\u001b[0mself\u001b[0m\u001b[0;34m.\u001b[0m\u001b[0mrun_metadata\u001b[0m\u001b[0;34m)\u001b[0m\u001b[0;34m\u001b[0m\u001b[0;34m\u001b[0m\u001b[0m\n\u001b[1;32m   2936\u001b[0m         \u001b[0;32melse\u001b[0m\u001b[0;34m:\u001b[0m\u001b[0;34m\u001b[0m\u001b[0;34m\u001b[0m\u001b[0m\n\u001b[0;32m-> 2937\u001b[0;31m             \u001b[0mfetched\u001b[0m \u001b[0;34m=\u001b[0m \u001b[0mself\u001b[0m\u001b[0;34m.\u001b[0m\u001b[0m_callable_fn\u001b[0m\u001b[0;34m(\u001b[0m\u001b[0;34m*\u001b[0m\u001b[0marray_vals\u001b[0m\u001b[0;34m)\u001b[0m\u001b[0;34m\u001b[0m\u001b[0;34m\u001b[0m\u001b[0m\n\u001b[0m\u001b[1;32m   2938\u001b[0m         \u001b[0;32mreturn\u001b[0m \u001b[0mfetched\u001b[0m\u001b[0;34m[\u001b[0m\u001b[0;34m:\u001b[0m\u001b[0mlen\u001b[0m\u001b[0;34m(\u001b[0m\u001b[0mself\u001b[0m\u001b[0;34m.\u001b[0m\u001b[0moutputs\u001b[0m\u001b[0;34m)\u001b[0m\u001b[0;34m]\u001b[0m\u001b[0;34m\u001b[0m\u001b[0;34m\u001b[0m\u001b[0m\n\u001b[1;32m   2939\u001b[0m \u001b[0;34m\u001b[0m\u001b[0m\n",
            "\u001b[0;32m/usr/local/lib/python3.6/dist-packages/tensorflow_core/python/client/session.py\u001b[0m in \u001b[0;36m__call__\u001b[0;34m(self, *args, **kwargs)\u001b[0m\n\u001b[1;32m   1470\u001b[0m         ret = tf_session.TF_SessionRunCallable(self._session._session,\n\u001b[1;32m   1471\u001b[0m                                                \u001b[0mself\u001b[0m\u001b[0;34m.\u001b[0m\u001b[0m_handle\u001b[0m\u001b[0;34m,\u001b[0m \u001b[0margs\u001b[0m\u001b[0;34m,\u001b[0m\u001b[0;34m\u001b[0m\u001b[0;34m\u001b[0m\u001b[0m\n\u001b[0;32m-> 1472\u001b[0;31m                                                run_metadata_ptr)\n\u001b[0m\u001b[1;32m   1473\u001b[0m         \u001b[0;32mif\u001b[0m \u001b[0mrun_metadata\u001b[0m\u001b[0;34m:\u001b[0m\u001b[0;34m\u001b[0m\u001b[0;34m\u001b[0m\u001b[0m\n\u001b[1;32m   1474\u001b[0m           \u001b[0mproto_data\u001b[0m \u001b[0;34m=\u001b[0m \u001b[0mtf_session\u001b[0m\u001b[0;34m.\u001b[0m\u001b[0mTF_GetBuffer\u001b[0m\u001b[0;34m(\u001b[0m\u001b[0mrun_metadata_ptr\u001b[0m\u001b[0;34m)\u001b[0m\u001b[0;34m\u001b[0m\u001b[0;34m\u001b[0m\u001b[0m\n",
            "\u001b[0;31mKeyboardInterrupt\u001b[0m: "
          ]
        }
      ]
    }
  ]
}