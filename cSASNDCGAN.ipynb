{
  "nbformat": 4,
  "nbformat_minor": 0,
  "metadata": {
    "accelerator": "GPU",
    "colab": {
      "name": "cSASNDCGAN.ipynb",
      "provenance": [],
      "collapsed_sections": []
    },
    "kernelspec": {
      "display_name": "Python 3",
      "language": "python",
      "name": "python3"
    },
    "language_info": {
      "codemirror_mode": {
        "name": "ipython",
        "version": 3
      },
      "file_extension": ".py",
      "mimetype": "text/x-python",
      "name": "python",
      "nbconvert_exporter": "python",
      "pygments_lexer": "ipython3",
      "version": "3.6.9"
    }
  },
  "cells": [
    {
      "cell_type": "code",
      "metadata": {
        "colab_type": "code",
        "id": "XwWX5N5GoyP8",
        "outputId": "d14f98a2-628e-42e1-d7fd-5a1f6f7535ad",
        "colab": {
          "base_uri": "https://localhost:8080/",
          "height": 35
        }
      },
      "source": [
        "from __future__ import absolute_import, division, print_function, unicode_literals\n",
        "import tensorflow as tf\n",
        "from tensorflow import keras\n",
        "from keras import backend as K\n",
        "import matplotlib.pyplot as plt\n",
        "from keras.layers import Input, Dense, Conv2D, Add, Dot, Conv2DTranspose, Activation, Reshape, LeakyReLU, Flatten, BatchNormalization, Lambda, Softmax, Concatenate, Embedding, Multiply, Add\n",
        "from keras.models import Model, Sequential\n",
        "from keras.optimizers import Adam\n",
        "from keras.utils.generic_utils import Progbar\n",
        "from keras.applications.inception_v3 import InceptionV3\n",
        "from keras.applications.inception_v3 import preprocess_input\n",
        "from time import time\n",
        "import os\n",
        "import functools\n",
        "import numpy as np\n",
        "from numpy import cov\n",
        "from numpy import trace\n",
        "from numpy import iscomplexobj\n",
        "from numpy import asarray\n",
        "from numpy.random import randint\n",
        "from scipy.linalg import sqrtm\n",
        "from tensorflow.python.ops import array_ops\n",
        "from skimage.transform import resize\n",
        "from keras.models import load_model"
      ],
      "execution_count": 0,
      "outputs": [
        {
          "output_type": "stream",
          "text": [
            "Using TensorFlow backend.\n"
          ],
          "name": "stderr"
        }
      ]
    },
    {
      "cell_type": "markdown",
      "metadata": {
        "id": "78P7xM0Tjuz9",
        "colab_type": "text"
      },
      "source": [
        "# **Spectral normalization Code**"
      ]
    },
    {
      "cell_type": "code",
      "metadata": {
        "id": "PNRq8sIqjrww",
        "colab_type": "code",
        "colab": {}
      },
      "source": [
        "from __future__ import absolute_import\n",
        "from __future__ import division\n",
        "from __future__ import print_function\n",
        "\n",
        "from keras.engine.base_layer import Layer, InputSpec\n",
        "from keras import backend as K\n",
        "from keras.engine import *\n",
        "from keras.legacy import interfaces\n",
        "from keras import activations\n",
        "from keras import initializers\n",
        "from keras import regularizers\n",
        "from keras import constraints\n",
        "from keras.utils.generic_utils import func_dump\n",
        "from keras.utils.generic_utils import func_load\n",
        "from keras.utils.generic_utils import deserialize_keras_object\n",
        "from keras.utils.generic_utils import has_arg\n",
        "from keras.utils import conv_utils\n",
        "from keras.legacy import interfaces\n",
        "from keras.layers import Dense, Conv1D, Conv2D, Conv3D, Conv2DTranspose, Embedding\n",
        "import tensorflow as tf\n",
        "\n",
        "class DenseSN(Dense):\n",
        "    def build(self, input_shape):\n",
        "        assert len(input_shape) >= 2\n",
        "        input_dim = input_shape[-1]\n",
        "        self.kernel = self.add_weight(shape=(input_dim, self.units),\n",
        "                                      initializer=self.kernel_initializer,\n",
        "                                      name='kernel',\n",
        "                                      regularizer=self.kernel_regularizer,\n",
        "                                      constraint=self.kernel_constraint)\n",
        "        if self.use_bias:\n",
        "            self.bias = self.add_weight(shape=(self.units,),\n",
        "                                        initializer=self.bias_initializer,\n",
        "                                        name='bias',\n",
        "                                        regularizer=self.bias_regularizer,\n",
        "                                        constraint=self.bias_constraint)\n",
        "        else:\n",
        "            self.bias = None\n",
        "        self.u = self.add_weight(shape=tuple([1, self.kernel.shape.as_list()[-1]]),\n",
        "                                 initializer=initializers.RandomNormal(0, 1),\n",
        "                                 name='sn',\n",
        "                                 trainable=False)\n",
        "        self.input_spec = InputSpec(min_ndim=2, axes={-1: input_dim})\n",
        "        self.built = True\n",
        "        \n",
        "    def call(self, inputs, training=None):\n",
        "        def _l2normalize(v, eps=1e-12):\n",
        "            return v / (K.sum(v ** 2) ** 0.5 + eps)\n",
        "        def power_iteration(W, u):\n",
        "            _u = u\n",
        "            _v = _l2normalize(K.dot(_u, K.transpose(W)))\n",
        "            _u = _l2normalize(K.dot(_v, W))\n",
        "            return _u, _v\n",
        "        W_shape = self.kernel.shape.as_list()\n",
        "        #Flatten the Tensor\n",
        "        W_reshaped = K.reshape(self.kernel, [-1, W_shape[-1]])\n",
        "        _u, _v = power_iteration(W_reshaped, self.u)\n",
        "        #Calculate Sigma\n",
        "        sigma=K.dot(_v, W_reshaped)\n",
        "        sigma=K.dot(sigma, K.transpose(_u))\n",
        "        #normalize it\n",
        "        W_bar = W_reshaped / sigma\n",
        "        #reshape weight tensor\n",
        "        if training in {0, False}:\n",
        "            W_bar = K.reshape(W_bar, W_shape)\n",
        "        else:\n",
        "            with tf.control_dependencies([self.u.assign(_u)]):\n",
        "                 W_bar = K.reshape(W_bar, W_shape)  \n",
        "        output = K.dot(inputs, W_bar)\n",
        "        if self.use_bias:\n",
        "            output = K.bias_add(output, self.bias, data_format='channels_last')\n",
        "        if self.activation is not None:\n",
        "            output = self.activation(output)\n",
        "        return output \n",
        "        \n",
        "class _ConvSN(Layer):\n",
        "\n",
        "    def __init__(self, rank,\n",
        "                 filters,\n",
        "                 kernel_size,\n",
        "                 strides=1,\n",
        "                 padding='valid',\n",
        "                 data_format=None,\n",
        "                 dilation_rate=1,\n",
        "                 activation=None,\n",
        "                 use_bias=True,\n",
        "                 kernel_initializer='glorot_uniform',\n",
        "                 bias_initializer='zeros',\n",
        "                 kernel_regularizer=None,\n",
        "                 bias_regularizer=None,\n",
        "                 activity_regularizer=None,\n",
        "                 kernel_constraint=None,\n",
        "                 bias_constraint=None,\n",
        "                 spectral_normalization=True,\n",
        "                 **kwargs):\n",
        "        super(_ConvSN, self).__init__(**kwargs)\n",
        "        self.rank = rank\n",
        "        self.filters = filters\n",
        "        self.kernel_size = conv_utils.normalize_tuple(kernel_size, rank, 'kernel_size')\n",
        "        self.strides = conv_utils.normalize_tuple(strides, rank, 'strides')\n",
        "        self.padding = conv_utils.normalize_padding(padding)\n",
        "        self.data_format = conv_utils.normalize_data_format(data_format)\n",
        "        self.dilation_rate = conv_utils.normalize_tuple(dilation_rate, rank, 'dilation_rate')\n",
        "        self.activation = activations.get(activation)\n",
        "        self.use_bias = use_bias\n",
        "        self.kernel_initializer = initializers.get(kernel_initializer)\n",
        "        self.bias_initializer = initializers.get(bias_initializer)\n",
        "        self.kernel_regularizer = regularizers.get(kernel_regularizer)\n",
        "        self.bias_regularizer = regularizers.get(bias_regularizer)\n",
        "        self.activity_regularizer = regularizers.get(activity_regularizer)\n",
        "        self.kernel_constraint = constraints.get(kernel_constraint)\n",
        "        self.bias_constraint = constraints.get(bias_constraint)\n",
        "        self.input_spec = InputSpec(ndim=self.rank + 2)\n",
        "        self.spectral_normalization = spectral_normalization\n",
        "        self.u = None\n",
        "        \n",
        "    def _l2normalize(self, v, eps=1e-12):\n",
        "        return v / (K.sum(v ** 2) ** 0.5 + eps)\n",
        "    \n",
        "    def power_iteration(self, u, W):\n",
        "        '''\n",
        "        Accroding the paper, we only need to do power iteration one time.\n",
        "        '''\n",
        "        v = self._l2normalize(K.dot(u, K.transpose(W)))\n",
        "        u = self._l2normalize(K.dot(v, W))\n",
        "        return u, v\n",
        "    def build(self, input_shape):\n",
        "        if self.data_format == 'channels_first':\n",
        "            channel_axis = 1\n",
        "        else:\n",
        "            channel_axis = -1\n",
        "        if input_shape[channel_axis] is None:\n",
        "            raise ValueError('The channel dimension of the inputs '\n",
        "                             'should be defined. Found `None`.')\n",
        "        input_dim = input_shape[channel_axis]\n",
        "        kernel_shape = self.kernel_size + (input_dim, self.filters)\n",
        "\n",
        "        self.kernel = self.add_weight(shape=kernel_shape,\n",
        "                                      initializer=self.kernel_initializer,\n",
        "                                      name='kernel',\n",
        "                                      regularizer=self.kernel_regularizer,\n",
        "                                      constraint=self.kernel_constraint)\n",
        "\n",
        "        #Spectral Normalization\n",
        "        if self.spectral_normalization:\n",
        "            self.u = self.add_weight(shape=tuple([1, self.kernel.shape.as_list()[-1]]),\n",
        "                                     initializer=initializers.RandomNormal(0, 1),\n",
        "                                     name='sn',\n",
        "                                     trainable=False)\n",
        "        \n",
        "        if self.use_bias:\n",
        "            self.bias = self.add_weight(shape=(self.filters,),\n",
        "                                        initializer=self.bias_initializer,\n",
        "                                        name='bias',\n",
        "                                        regularizer=self.bias_regularizer,\n",
        "                                        constraint=self.bias_constraint)\n",
        "        else:\n",
        "            self.bias = None\n",
        "        # Set input spec.\n",
        "        self.input_spec = InputSpec(ndim=self.rank + 2,\n",
        "                                    axes={channel_axis: input_dim})\n",
        "        self.built = True\n",
        "\n",
        "    def call(self, inputs):\n",
        "        def _l2normalize(v, eps=1e-12):\n",
        "            return v / (K.sum(v ** 2) ** 0.5 + eps)\n",
        "        def power_iteration(W, u):\n",
        "            _u = u\n",
        "            _v = _l2normalize(K.dot(_u, K.transpose(W)))\n",
        "            _u = _l2normalize(K.dot(_v, W))\n",
        "            return _u, _v\n",
        "        \n",
        "        if self.spectral_normalization:\n",
        "            W_shape = self.kernel.shape.as_list()\n",
        "            #Flatten the Tensor\n",
        "            W_reshaped = K.reshape(self.kernel, [-1, W_shape[-1]])\n",
        "            _u, _v = power_iteration(W_reshaped, self.u)\n",
        "            #Calculate Sigma\n",
        "            sigma=K.dot(_v, W_reshaped)\n",
        "            sigma=K.dot(sigma, K.transpose(_u))\n",
        "            #normalize it\n",
        "            W_bar = W_reshaped / sigma\n",
        "            #reshape weight tensor\n",
        "            if training in {0, False}:\n",
        "                W_bar = K.reshape(W_bar, W_shape)\n",
        "            else:\n",
        "                with tf.control_dependencies([self.u.assign(_u)]):\n",
        "                    W_bar = K.reshape(W_bar, W_shape)\n",
        "\n",
        "            #update weitht\n",
        "            self.kernel = W_bar\n",
        "        \n",
        "        if self.rank == 1:\n",
        "            outputs = K.conv1d(\n",
        "                inputs,\n",
        "                self.kernel,\n",
        "                strides=self.strides[0],\n",
        "                padding=self.padding,\n",
        "                data_format=self.data_format,\n",
        "                dilation_rate=self.dilation_rate[0])\n",
        "        if self.rank == 2:\n",
        "            outputs = K.conv2d(\n",
        "                inputs,\n",
        "                self.kernel,\n",
        "                strides=self.strides,\n",
        "                padding=self.padding,\n",
        "                data_format=self.data_format,\n",
        "                dilation_rate=self.dilation_rate)\n",
        "        if self.rank == 3:\n",
        "            outputs = K.conv3d(\n",
        "                inputs,\n",
        "                self.kernel,\n",
        "                strides=self.strides,\n",
        "                padding=self.padding,\n",
        "                data_format=self.data_format,\n",
        "                dilation_rate=self.dilation_rate)\n",
        "\n",
        "        if self.use_bias:\n",
        "            outputs = K.bias_add(\n",
        "                outputs,\n",
        "                self.bias,\n",
        "                data_format=self.data_format)\n",
        "\n",
        "        if self.activation is not None:\n",
        "            return self.activation(outputs)\n",
        "        return outputs\n",
        "\n",
        "    def compute_output_shape(self, input_shape):\n",
        "        if self.data_format == 'channels_last':\n",
        "            space = input_shape[1:-1]\n",
        "            new_space = []\n",
        "            for i in range(len(space)):\n",
        "                new_dim = conv_utils.conv_output_length(\n",
        "                    space[i],\n",
        "                    self.kernel_size[i],\n",
        "                    padding=self.padding,\n",
        "                    stride=self.strides[i],\n",
        "                    dilation=self.dilation_rate[i])\n",
        "                new_space.append(new_dim)\n",
        "            return (input_shape[0],) + tuple(new_space) + (self.filters,)\n",
        "        if self.data_format == 'channels_first':\n",
        "            space = input_shape[2:]\n",
        "            new_space = []\n",
        "            for i in range(len(space)):\n",
        "                new_dim = conv_utils.conv_output_length(\n",
        "                    space[i],\n",
        "                    self.kernel_size[i],\n",
        "                    padding=self.padding,\n",
        "                    stride=self.strides[i],\n",
        "                    dilation=self.dilation_rate[i])\n",
        "                new_space.append(new_dim)\n",
        "            return (input_shape[0], self.filters) + tuple(new_space)\n",
        "\n",
        "    def get_config(self):\n",
        "        config = {\n",
        "            'rank': self.rank,\n",
        "            'filters': self.filters,\n",
        "            'kernel_size': self.kernel_size,\n",
        "            'strides': self.strides,\n",
        "            'padding': self.padding,\n",
        "            'data_format': self.data_format,\n",
        "            'dilation_rate': self.dilation_rate,\n",
        "            'activation': activations.serialize(self.activation),\n",
        "            'use_bias': self.use_bias,\n",
        "            'kernel_initializer': initializers.serialize(self.kernel_initializer),\n",
        "            'bias_initializer': initializers.serialize(self.bias_initializer),\n",
        "            'kernel_regularizer': regularizers.serialize(self.kernel_regularizer),\n",
        "            'bias_regularizer': regularizers.serialize(self.bias_regularizer),\n",
        "            'activity_regularizer': regularizers.serialize(self.activity_regularizer),\n",
        "            'kernel_constraint': constraints.serialize(self.kernel_constraint),\n",
        "            'bias_constraint': constraints.serialize(self.bias_constraint)\n",
        "        }\n",
        "        base_config = super(_Conv, self).get_config()\n",
        "        return dict(list(base_config.items()) + list(config.items()))\n",
        "    \n",
        "class ConvSN2D(Conv2D):\n",
        "\n",
        "    def build(self, input_shape):\n",
        "        if self.data_format == 'channels_first':\n",
        "            channel_axis = 1\n",
        "        else:\n",
        "            channel_axis = -1\n",
        "        if input_shape[channel_axis] is None:\n",
        "            raise ValueError('The channel dimension of the inputs '\n",
        "                             'should be defined. Found `None`.')\n",
        "        input_dim = input_shape[channel_axis]\n",
        "        kernel_shape = self.kernel_size + (input_dim, self.filters)\n",
        "\n",
        "        self.kernel = self.add_weight(shape=kernel_shape,\n",
        "                                      initializer=self.kernel_initializer,\n",
        "                                      name='kernel',\n",
        "                                      regularizer=self.kernel_regularizer,\n",
        "                                      constraint=self.kernel_constraint)\n",
        "\n",
        "        if self.use_bias:\n",
        "            self.bias = self.add_weight(shape=(self.filters,),\n",
        "                                        initializer=self.bias_initializer,\n",
        "                                        name='bias',\n",
        "                                        regularizer=self.bias_regularizer,\n",
        "                                        constraint=self.bias_constraint)\n",
        "        else:\n",
        "            self.bias = None\n",
        "            \n",
        "        self.u = self.add_weight(shape=tuple([1, self.kernel.shape.as_list()[-1]]),\n",
        "                         initializer=initializers.RandomNormal(0, 1),\n",
        "                         name='sn',\n",
        "                         trainable=False)\n",
        "        \n",
        "      \n",
        "        \n",
        "        # Set input spec.\n",
        "        self.input_spec = InputSpec(ndim=self.rank + 2,\n",
        "                                    axes={channel_axis: input_dim})\n",
        "        self.built = True\n",
        "    def call(self, inputs, training=None):\n",
        "        def _l2normalize(v, eps=1e-12):\n",
        "            return v / (K.sum(v ** 2) ** 0.5 + eps)\n",
        "        def power_iteration(W, u):\n",
        "            #Accroding the paper, we only need to do power iteration one time.\n",
        "            _u = u\n",
        "            _v = _l2normalize(K.dot(_u, K.transpose(W)))\n",
        "            _u = _l2normalize(K.dot(_v, W))\n",
        "            return _u, _v\n",
        "        #Spectral Normalization\n",
        "        W_shape = self.kernel.shape.as_list()\n",
        "        #Flatten the Tensor\n",
        "        W_reshaped = K.reshape(self.kernel, [-1, W_shape[-1]])\n",
        "        _u, _v = power_iteration(W_reshaped, self.u)\n",
        "        #Calculate Sigma\n",
        "        sigma=K.dot(_v, W_reshaped)\n",
        "        sigma=K.dot(sigma, K.transpose(_u))\n",
        "        #normalize it\n",
        "        W_bar = W_reshaped / sigma\n",
        "        #reshape weight tensor\n",
        "        if training in {0, False}:\n",
        "            W_bar = K.reshape(W_bar, W_shape)\n",
        "        else:\n",
        "            with tf.control_dependencies([self.u.assign(_u)]):\n",
        "                W_bar = K.reshape(W_bar, W_shape)\n",
        "                \n",
        "        outputs = K.conv2d(\n",
        "                inputs,\n",
        "                W_bar,\n",
        "                strides=self.strides,\n",
        "                padding=self.padding,\n",
        "                data_format=self.data_format,\n",
        "                dilation_rate=self.dilation_rate)\n",
        "        if self.use_bias:\n",
        "            outputs = K.bias_add(\n",
        "                outputs,\n",
        "                self.bias,\n",
        "                data_format=self.data_format)\n",
        "        if self.activation is not None:\n",
        "            return self.activation(outputs)\n",
        "        return outputs\n",
        "\n",
        "    \n",
        "\n",
        "class ConvSN2DTranspose(Conv2DTranspose):\n",
        "\n",
        "    def build(self, input_shape):\n",
        "        if len(input_shape) != 4:\n",
        "            raise ValueError('Inputs should have rank ' +\n",
        "                             str(4) +\n",
        "                             '; Received input shape:', str(input_shape))\n",
        "        if self.data_format == 'channels_first':\n",
        "            channel_axis = 1\n",
        "        else:\n",
        "            channel_axis = -1\n",
        "        if input_shape[channel_axis] is None:\n",
        "            raise ValueError('The channel dimension of the inputs '\n",
        "                             'should be defined. Found `None`.')\n",
        "        input_dim = input_shape[channel_axis]\n",
        "        kernel_shape = self.kernel_size + (self.filters, input_dim)\n",
        "\n",
        "        self.kernel = self.add_weight(shape=kernel_shape,\n",
        "                                      initializer=self.kernel_initializer,\n",
        "                                      name='kernel',\n",
        "                                      regularizer=self.kernel_regularizer,\n",
        "                                      constraint=self.kernel_constraint)\n",
        "        if self.use_bias:\n",
        "            self.bias = self.add_weight(shape=(self.filters,),\n",
        "                                        initializer=self.bias_initializer,\n",
        "                                        name='bias',\n",
        "                                        regularizer=self.bias_regularizer,\n",
        "                                        constraint=self.bias_constraint)\n",
        "        else:\n",
        "            self.bias = None\n",
        "            \n",
        "        # self.u = self.add_weight(shape=tuple([1, self.kernel.shape.as_list()[-1]]),\n",
        "        #                  initializer=initializers.RandomNormal(0, 1),\n",
        "        #                  name='sn',\n",
        "        #                  trainable=False)\n",
        "        self.u = self.add_weight(shape=tuple([1, self.filters]),\n",
        "                        initializer=initializers.RandomNormal(0, 1),\n",
        "                        name='sn',\n",
        "                        trainable=False)\n",
        "        \n",
        "        # Set input spec.\n",
        "        self.input_spec = InputSpec(ndim=4, axes={channel_axis: input_dim})\n",
        "        self.built = True  \n",
        "    \n",
        "    def call(self, inputs):\n",
        "        input_shape = K.shape(inputs)\n",
        "        batch_size = input_shape[0]\n",
        "        if self.data_format == 'channels_first':\n",
        "            h_axis, w_axis = 2, 3\n",
        "        else:\n",
        "            h_axis, w_axis = 1, 2\n",
        "\n",
        "        height, width = input_shape[h_axis], input_shape[w_axis]\n",
        "        kernel_h, kernel_w = self.kernel_size\n",
        "        stride_h, stride_w = self.strides\n",
        "        if self.output_padding is None:\n",
        "            out_pad_h = out_pad_w = None\n",
        "        else:\n",
        "            out_pad_h, out_pad_w = self.output_padding\n",
        "\n",
        "        # Infer the dynamic output shape:\n",
        "        out_height = conv_utils.deconv_length(dim_size = height,\n",
        "                                                    kernel_size = kernel_h,\n",
        "                                                    padding=self.padding,\n",
        "                                                    output_padding=out_pad_h,\n",
        "                                                    stride_size=stride_h,\n",
        "                                                    dilation=self.dilation_rate[0])\n",
        "        out_width = conv_utils.deconv_length(dim_size = width,\n",
        "                                                    kernel_size = kernel_w,\n",
        "                                                    padding=self.padding,\n",
        "                                                    output_padding=out_pad_w,\n",
        "                                                    stride_size=stride_w,\n",
        "                                                    dilation=self.dilation_rate[1])\n",
        "        if self.data_format == 'channels_first':\n",
        "            output_shape = (batch_size, self.filters, out_height, out_width)\n",
        "        else:\n",
        "            output_shape = (batch_size, out_height, out_width, self.filters)\n",
        "\n",
        "        output_shape_tensor = array_ops.stack(output_shape)   \n",
        "        #Spectral Normalization    \n",
        "        def _l2normalize(v, eps=1e-12):\n",
        "            return v / (K.sum(v ** 2) ** 0.5 + eps)\n",
        "        def power_iteration(W, u):\n",
        "            #Accroding the paper, we only need to do power iteration one time.\n",
        "            _u = u\n",
        "            _v = _l2normalize(K.dot(_u, K.transpose(W)))\n",
        "            _u = _l2normalize(K.dot(_v, W))\n",
        "            return _u, _v\n",
        "        W_shape = self.kernel.shape.as_list()\n",
        "        #Flatten the Tensor\n",
        "        W_reshaped = K.reshape(self.kernel, [-1, W_shape[-2]])\n",
        "        _u, _v = power_iteration(W_reshaped, self.u)\n",
        "        #Calculate Sigma\n",
        "        sigma=K.dot(_v, W_reshaped)\n",
        "        sigma=K.dot(sigma, K.transpose(_u))\n",
        "        #normalize it\n",
        "        W_bar = W_reshaped / sigma\n",
        "        #reshape weight tensor\n",
        "        if training in {0, False}:\n",
        "            W_bar = K.reshape(W_bar, W_shape)\n",
        "        else:\n",
        "            with tf.control_dependencies([self.u.assign(_u)]):\n",
        "                W_bar = K.reshape(W_bar, W_shape)\n",
        "        self.kernel = W_bar\n",
        "        \n",
        "        outputs = K.conv2d_transpose(\n",
        "            inputs,\n",
        "            self.kernel,\n",
        "            output_shape_tensor,\n",
        "            self.strides,\n",
        "            padding=self.padding,\n",
        "            data_format=self.data_format)\n",
        "\n",
        "        if self.use_bias:\n",
        "            outputs = K.bias_add(\n",
        "                outputs,\n",
        "                self.bias,\n",
        "                data_format=self.data_format)\n",
        "\n",
        "        if self.activation is not None:\n",
        "            return self.activation(outputs)\n",
        "        return outputs\n",
        "\n",
        "\n",
        "\n",
        "class SelfAttentionGamma(Layer):\n",
        "\n",
        "    def __init__(self,\n",
        "                 **kwargs):\n",
        "        super(SelfAttentionGamma, self).__init__(**kwargs)\n",
        "\n",
        "    def build(self, input_shape):\n",
        "        assert isinstance(input_shape, list)\n",
        "        self.gamma = self.add_weight(shape=[1],\n",
        "                                         name='gamma',\n",
        "                                         initializer='zeros')\n",
        "        self.built = True\n",
        "\n",
        "    def call(self, inputs, training=None):\n",
        "        # print(inputs[1].shape.as_list())\n",
        "        # print(inputs[0].shape.as_list())\n",
        "        return self.gamma*K.reshape(inputs[1], shape = K.shape(inputs[0])) + inputs[0]\n",
        "\n",
        "    def get_config(self):\n",
        "        config = {\n",
        "        }\n",
        "        base_config = super(SelfAttentionGamma, self).get_config()\n",
        "        return dict(list(base_config.items()) + list(config.items()))\n",
        "\n",
        "    def compute_output_shape(self, input_shape):\n",
        "        assert isinstance(input_shape, list)\n",
        "        return input_shape[0]"
      ],
      "execution_count": 0,
      "outputs": []
    },
    {
      "cell_type": "markdown",
      "metadata": {
        "id": "sx2XcEjKj-m-",
        "colab_type": "text"
      },
      "source": [
        "**Mounting Google drive**"
      ]
    },
    {
      "cell_type": "code",
      "metadata": {
        "colab_type": "code",
        "id": "e0u2h18W-oVJ",
        "outputId": "3f93dd5e-193e-48fe-8a87-931417ead38f",
        "colab": {
          "base_uri": "https://localhost:8080/",
          "height": 124
        }
      },
      "source": [
        "from google.colab import drive\n",
        "drive.mount('/content/drive')"
      ],
      "execution_count": 0,
      "outputs": [
        {
          "output_type": "stream",
          "text": [
            "Go to this URL in a browser: https://accounts.google.com/o/oauth2/auth?client_id=947318989803-6bn6qk8qdgf4n4g3pfee6491hc0brc4i.apps.googleusercontent.com&redirect_uri=urn%3Aietf%3Awg%3Aoauth%3A2.0%3Aoob&scope=email%20https%3A%2F%2Fwww.googleapis.com%2Fauth%2Fdocs.test%20https%3A%2F%2Fwww.googleapis.com%2Fauth%2Fdrive%20https%3A%2F%2Fwww.googleapis.com%2Fauth%2Fdrive.photos.readonly%20https%3A%2F%2Fwww.googleapis.com%2Fauth%2Fpeopleapi.readonly&response_type=code\n",
            "\n",
            "Enter your authorization code:\n",
            "··········\n",
            "Mounted at /content/drive\n"
          ],
          "name": "stdout"
        }
      ]
    },
    {
      "cell_type": "markdown",
      "metadata": {
        "id": "_hlqKwlTkIWk",
        "colab_type": "text"
      },
      "source": [
        "**GPU Memory**"
      ]
    },
    {
      "cell_type": "code",
      "metadata": {
        "colab_type": "code",
        "id": "0S95P39YH5Uf",
        "colab": {}
      },
      "source": [
        "# for resist GPU memory\n",
        "import tensorflow as tf\n",
        "config = tf.ConfigProto()\n",
        "config.gpu_options.allow_growth=True\n",
        "sess = tf.Session(config=config)\n",
        "K.set_session(sess)"
      ],
      "execution_count": 0,
      "outputs": []
    },
    {
      "cell_type": "markdown",
      "metadata": {
        "id": "Qb3aNwdnkVic",
        "colab_type": "text"
      },
      "source": [
        "**Loading data from keras**"
      ]
    },
    {
      "cell_type": "code",
      "metadata": {
        "colab_type": "code",
        "id": "mJfzVF-Xsgpz",
        "outputId": "d419343a-892f-434e-9b53-2e438df35d24",
        "colab": {
          "base_uri": "https://localhost:8080/",
          "height": 52
        }
      },
      "source": [
        "from keras.datasets import cifar100, cifar10\n",
        "(x_train, y_train), (x_test, y_test) = cifar10.load_data()"
      ],
      "execution_count": 0,
      "outputs": [
        {
          "output_type": "stream",
          "text": [
            "Downloading data from https://www.cs.toronto.edu/~kriz/cifar-10-python.tar.gz\n",
            "170500096/170498071 [==============================] - 4s 0us/step\n"
          ],
          "name": "stdout"
        }
      ]
    },
    {
      "cell_type": "markdown",
      "metadata": {
        "id": "DWnuk8S2kg0p",
        "colab_type": "text"
      },
      "source": [
        "**checking shape of the data set**"
      ]
    },
    {
      "cell_type": "code",
      "metadata": {
        "colab_type": "code",
        "id": "0TGKdHBqsiv0",
        "outputId": "d53d9a55-e515-4c57-b2e6-5614b5066c1e",
        "colab": {
          "base_uri": "https://localhost:8080/",
          "height": 287
        }
      },
      "source": [
        "X = x_train\n",
        "X.shape\n",
        "plt.imshow(x_train[999])"
      ],
      "execution_count": 0,
      "outputs": [
        {
          "output_type": "execute_result",
          "data": {
            "text/plain": [
              "<matplotlib.image.AxesImage at 0x7f35067d1e10>"
            ]
          },
          "metadata": {
            "tags": []
          },
          "execution_count": 6
        },
        {
          "output_type": "display_data",
          "data": {
            "image/png": "[encoded data removed]",
            "text/plain": [
              "<Figure size 432x288 with 1 Axes>"
            ]
          },
          "metadata": {
            "tags": []
          }
        }
      ]
    },
    {
      "cell_type": "markdown",
      "metadata": {
        "id": "F5tQsNtKktAR",
        "colab_type": "text"
      },
      "source": [
        "**Declaring the variables and HyperParameters**"
      ]
    },
    {
      "cell_type": "code",
      "metadata": {
        "colab_type": "code",
        "id": "BMf8eeHxskkf",
        "colab": {}
      },
      "source": [
        "#Hyperperemeter\n",
        "BATCHSIZE=64\n",
        "\n",
        "LEARNING_RATE = 0.0002\n",
        "#learning rates of generater and discriminator according to TTUR\n",
        "LEARNING_RATE_G = 0.0001\n",
        "LEARNING_RATE_D = 0.0002\n",
        "\n",
        "TRAINING_RATIO = 1\n",
        "BETA_1 = 0\n",
        "BETA_2 = 0.9\n",
        "EPOCHS = 500\n",
        "BN_MIMENTUM = 0.1\n",
        "BN_EPSILON  = 0.0002\n",
        "\n",
        "\n",
        "SAVE_IMG_DIR = '/content/drive/My Drive/DeepLearning/cSASNDCGAN2/img'\n",
        "SAVE_LOGS_DIR = '/content/drive/My Drive/DeepLearning/cSASNDCGAN2/logs'\n",
        "SAVE_LOSS_FID_LOGS = '/content/drive/My Drive/DeepLearning/cSASNDCGAN2/fid_logs'\n",
        "model_save_dir = '/content/drive/My Drive/DeepLearning/cSASNDCGAN2/models'\n",
        "model_save_interval = 1\n",
        "\n",
        "Row_Num = 8\n",
        "\n",
        "Size = Row_Num*Row_Num\n",
        "steps = 1000\n",
        "\n",
        "\n",
        "def mult1(x):\n",
        "    x1 = x[0]\n",
        "    x2 = x[1]\n",
        "    x3 = K.permute_dimensions(x[1],pattern=(0,2,1))\n",
        "    x4 = K.batch_dot(x1, x3, axes=(2,1))\n",
        "    return x4"
      ],
      "execution_count": 0,
      "outputs": []
    },
    {
      "cell_type": "markdown",
      "metadata": {
        "id": "EnZYyDs0k8gG",
        "colab_type": "text"
      },
      "source": [
        "**ATTENTION CODE**"
      ]
    },
    {
      "cell_type": "code",
      "metadata": {
        "id": "8WxTwgoIYA3T",
        "colab_type": "code",
        "colab": {}
      },
      "source": [
        "def Attention1(input):\n",
        "    #Input is multiplied with Wf(conSN2D) weights to be trained -F-Layer\n",
        "    SA_FLayer = ConvSN2D(128//8, kernel_size=1, strides=1,kernel_initializer='glorot_uniform', padding='same', activation=None)(input)\n",
        "    SA_FLayer_ReShape = Lambda(lambda x:K.reshape(x, shape = (K.shape(x)[0], -1,K.shape(x)[3])))(SA_FLayer)\n",
        "    \n",
        "    #Input is multiplied with Wg(conSN2D) weights to be trained-G-Layer\n",
        "    SA_GLayer = ConvSN2D(128//8, kernel_size=1, strides=1,kernel_initializer='glorot_uniform', padding='same', activation=None)(input)\n",
        "    SA_GLayer_ReShape = Lambda(lambda x:K.reshape(x, shape = (K.shape(x)[0], K.shape(x)[1]*K.shape(x)[2],K.shape(x)[-1])))(SA_GLayer)\n",
        "        #Input is multiplied with Wh(conSN2D) weights to be trained-H-Layer\n",
        "    SA_HLayer = ConvSN2D(128, kernel_size=1, strides=1,kernel_initializer='glorot_uniform', padding='same', activation=None)(input)\n",
        "    SA_HLayer_ReShape = Lambda(lambda x:K.reshape(x, shape = (K.shape(x)[0], K.shape(x)[1]*K.shape(x)[2],K.shape(x)[-1])))(SA_HLayer)\n",
        "    \n",
        "    #multiplying F and G and then applying softmax to get Beta\n",
        "    multFG = Lambda(lambda x:mult1(x))([SA_GLayer_ReShape, SA_FLayer_ReShape])\n",
        " \n",
        "    #featueMap Beta\n",
        "    Attention_Map = Softmax(axis=-1)(multFG)\n",
        "\n",
        "    #merge H-layer with the featureMap to generate all FeatueMaps\n",
        "    attention = Lambda(lambda x:K.batch_dot(x[0], x[1], axes=(2, 1)))([Attention_Map, SA_HLayer_ReShape])\n",
        "\n",
        "    attention_final = SelfAttentionGamma()([input, attention])\n",
        "    \n",
        "    return attention_final"
      ],
      "execution_count": 0,
      "outputs": []
    },
    {
      "cell_type": "markdown",
      "metadata": {
        "id": "_vyzzsF4lBED",
        "colab_type": "text"
      },
      "source": [
        "**GENERATOR CODE**"
      ]
    },
    {
      "cell_type": "code",
      "metadata": {
        "colab_type": "code",
        "id": "tWDCJzFWlTmI",
        "colab": {}
      },
      "source": [
        " def BuildGenerator():\n",
        "\n",
        "    label = Input(shape=(10,))\n",
        "    noise = Input(shape=(128,))\n",
        "\n",
        "    merge = Concatenate(name = 'l4')([noise, label])\n",
        "    inter = Dense(4*4*512, kernel_initializer='glorot_uniform', name = 'l5')(merge)\n",
        "    inter = Reshape((4,4,512), name = 'l6')(inter)\n",
        "    \n",
        "    inter = ConvSN2DTranspose(256, kernel_size=4, strides=2, padding='same', kernel_initializer='glorot_uniform', activation = None, name = 'l7')(inter)\n",
        "    inter = BatchNormalization(epsilon=BN_EPSILON, momentum=BN_MIMENTUM, name = 'l8')(inter)\n",
        "    inter = Activation('relu', name = 'l9')(inter)\n",
        "    \n",
        "    inter = ConvSN2DTranspose(128, kernel_size=4, strides=2, padding='same', kernel_initializer='glorot_uniform',activation = None, name = 'l10')(inter)\n",
        "    inter = BatchNormalization(epsilon=BN_EPSILON, momentum=BN_MIMENTUM, name = 'l11')(inter)\n",
        "    inter = Activation('relu', name = 'l12')(inter)\n",
        "\n",
        "    attention_final = Attention1(inter)\n",
        "    \n",
        "\n",
        "    inter = ConvSN2DTranspose(64,  kernel_size=4, strides=2, padding='same', kernel_initializer='glorot_uniform',activation = None, name = 'l15')(attention_final)\n",
        "    inter = BatchNormalization(epsilon=BN_EPSILON, momentum=BN_MIMENTUM, name = 'l16')(inter)\n",
        "    inter = Activation('relu', name = 'l17')(inter)\n",
        "    \n",
        "    output = ConvSN2DTranspose(3,   kernel_size=3, strides=1, padding='same', activation='tanh', name = 'l18')(inter)\n",
        "    \n",
        "    gen_model = Model([noise, label], output)\n",
        "    gen_model.summary()\n",
        "    return gen_model\n"
      ],
      "execution_count": 0,
      "outputs": []
    },
    {
      "cell_type": "markdown",
      "metadata": {
        "id": "i93PQo7jlQMM",
        "colab_type": "text"
      },
      "source": [
        "**DISCRMINATOR CODE**"
      ]
    },
    {
      "cell_type": "code",
      "metadata": {
        "colab_type": "code",
        "id": "hsBHfbpVsoqC",
        "colab": {}
      },
      "source": [
        "def BuildDiscriminator():\n",
        "\n",
        "    label = Input(shape=(10,))\n",
        "    input = Input(shape=(32,32,3))\n",
        "    \n",
        "    inter = ConvSN2D(64, kernel_size=3, strides=1,kernel_initializer='glorot_uniform', padding='same')(input)\n",
        "    inter = LeakyReLU(0.1)(inter)\n",
        "    inter = ConvSN2D(64, kernel_size=4, strides=2,kernel_initializer='glorot_uniform', padding='same')(inter)\n",
        "    inter = LeakyReLU(0.1)(inter)\n",
        "\n",
        "    inter = ConvSN2D(128, kernel_size=3, strides=1,kernel_initializer='glorot_uniform', padding='same')(inter)\n",
        "    inter = LeakyReLU(0.1)(inter)\n",
        "\n",
        "    \n",
        "    attention_final = Attention1(inter)\n",
        "    \n",
        "    inter = ConvSN2D(128, kernel_size=4, strides=2,kernel_initializer='glorot_uniform', padding='same')(attention_final)\n",
        "    inter = LeakyReLU(0.1)(inter)\n",
        "\n",
        "    inter = ConvSN2D(256, kernel_size=3, strides=1,kernel_initializer='glorot_uniform', padding='same')(inter)\n",
        "    inter = LeakyReLU(0.1)(inter)\n",
        "    inter = ConvSN2D(256, kernel_size=4, strides=2,kernel_initializer='glorot_uniform', padding='same')(inter)\n",
        "    inter = LeakyReLU(0.1)(inter)\n",
        "\n",
        "    inter = ConvSN2D(512, kernel_size=3, strides=1,kernel_initializer='glorot_uniform', padding='same')(inter)\n",
        "    inter = LeakyReLU(0.1)(inter)\n",
        "    inter = Flatten()(inter)\n",
        "    \n",
        "    merged_layer = Concatenate()([inter, label])\n",
        "    inter = DenseSN(512, activation='relu')(merged_layer)\n",
        "    \n",
        "    output  = DenseSN(1,kernel_initializer='glorot_uniform')(inter)\n",
        "    \n",
        "    model = Model([input, label], output)\n",
        "    model.summary()\n",
        "    return model"
      ],
      "execution_count": 0,
      "outputs": []
    },
    {
      "cell_type": "markdown",
      "metadata": {
        "id": "crV9eyG2lYV7",
        "colab_type": "text"
      },
      "source": [
        "**Build Generator and Discrminator**"
      ]
    },
    {
      "cell_type": "code",
      "metadata": {
        "colab_type": "code",
        "id": "Z-CTDFv1qLSw",
        "outputId": "8bbf42ee-ba5b-4efa-9aef-e90a07660769",
        "scrolled": true,
        "colab": {
          "base_uri": "https://localhost:8080/",
          "height": 1000
        }
      },
      "source": [
        "discriminator = BuildDiscriminator()\n",
        "generator = BuildGenerator()"
      ],
      "execution_count": 0,
      "outputs": [
        {
          "output_type": "stream",
          "text": [
            "Model: \"model_3\"\n",
            "__________________________________________________________________________________________________\n",
            "Layer (type)                    Output Shape         Param #     Connected to                     \n",
            "==================================================================================================\n",
            "input_6 (InputLayer)            (None, 32, 32, 3)    0                                            \n",
            "__________________________________________________________________________________________________\n",
            "conv_s_n2d_14 (ConvSN2D)        (None, 32, 32, 64)   1856        input_6[0][0]                    \n",
            "__________________________________________________________________________________________________\n",
            "leaky_re_lu_8 (LeakyReLU)       (None, 32, 32, 64)   0           conv_s_n2d_14[0][0]              \n",
            "__________________________________________________________________________________________________\n",
            "conv_s_n2d_15 (ConvSN2D)        (None, 16, 16, 64)   65664       leaky_re_lu_8[0][0]              \n",
            "__________________________________________________________________________________________________\n",
            "leaky_re_lu_9 (LeakyReLU)       (None, 16, 16, 64)   0           conv_s_n2d_15[0][0]              \n",
            "__________________________________________________________________________________________________\n",
            "conv_s_n2d_16 (ConvSN2D)        (None, 16, 16, 128)  73984       leaky_re_lu_9[0][0]              \n",
            "__________________________________________________________________________________________________\n",
            "leaky_re_lu_10 (LeakyReLU)      (None, 16, 16, 128)  0           conv_s_n2d_16[0][0]              \n",
            "__________________________________________________________________________________________________\n",
            "conv_s_n2d_18 (ConvSN2D)        (None, 16, 16, 16)   2080        leaky_re_lu_10[0][0]             \n",
            "__________________________________________________________________________________________________\n",
            "conv_s_n2d_17 (ConvSN2D)        (None, 16, 16, 16)   2080        leaky_re_lu_10[0][0]             \n",
            "__________________________________________________________________________________________________\n",
            "lambda_12 (Lambda)              (None, None, None)   0           conv_s_n2d_18[0][0]              \n",
            "__________________________________________________________________________________________________\n",
            "lambda_11 (Lambda)              (None, None, None)   0           conv_s_n2d_17[0][0]              \n",
            "__________________________________________________________________________________________________\n",
            "lambda_14 (Lambda)              (None, None, None)   0           lambda_12[0][0]                  \n",
            "                                                                 lambda_11[0][0]                  \n",
            "__________________________________________________________________________________________________\n",
            "conv_s_n2d_19 (ConvSN2D)        (None, 16, 16, 128)  16640       leaky_re_lu_10[0][0]             \n",
            "__________________________________________________________________________________________________\n",
            "softmax_3 (Softmax)             (None, None, None)   0           lambda_14[0][0]                  \n",
            "__________________________________________________________________________________________________\n",
            "lambda_13 (Lambda)              (None, None, None)   0           conv_s_n2d_19[0][0]              \n",
            "__________________________________________________________________________________________________\n",
            "lambda_15 (Lambda)              (None, None, None)   0           softmax_3[0][0]                  \n",
            "                                                                 lambda_13[0][0]                  \n",
            "__________________________________________________________________________________________________\n",
            "self_attention_gamma_3 (SelfAtt (None, 16, 16, 128)  1           leaky_re_lu_10[0][0]             \n",
            "                                                                 lambda_15[0][0]                  \n",
            "__________________________________________________________________________________________________\n",
            "conv_s_n2d_20 (ConvSN2D)        (None, 8, 8, 128)    262400      self_attention_gamma_3[0][0]     \n",
            "__________________________________________________________________________________________________\n",
            "leaky_re_lu_11 (LeakyReLU)      (None, 8, 8, 128)    0           conv_s_n2d_20[0][0]              \n",
            "__________________________________________________________________________________________________\n",
            "conv_s_n2d_21 (ConvSN2D)        (None, 8, 8, 256)    295424      leaky_re_lu_11[0][0]             \n",
            "__________________________________________________________________________________________________\n",
            "leaky_re_lu_12 (LeakyReLU)      (None, 8, 8, 256)    0           conv_s_n2d_21[0][0]              \n",
            "__________________________________________________________________________________________________\n",
            "conv_s_n2d_22 (ConvSN2D)        (None, 4, 4, 256)    1049088     leaky_re_lu_12[0][0]             \n",
            "__________________________________________________________________________________________________\n",
            "leaky_re_lu_13 (LeakyReLU)      (None, 4, 4, 256)    0           conv_s_n2d_22[0][0]              \n",
            "__________________________________________________________________________________________________\n",
            "conv_s_n2d_23 (ConvSN2D)        (None, 4, 4, 512)    1180672     leaky_re_lu_13[0][0]             \n",
            "__________________________________________________________________________________________________\n",
            "leaky_re_lu_14 (LeakyReLU)      (None, 4, 4, 512)    0           conv_s_n2d_23[0][0]              \n",
            "__________________________________________________________________________________________________\n",
            "flatten_2 (Flatten)             (None, 8192)         0           leaky_re_lu_14[0][0]             \n",
            "__________________________________________________________________________________________________\n",
            "input_5 (InputLayer)            (None, 10)           0                                            \n",
            "__________________________________________________________________________________________________\n",
            "concatenate_2 (Concatenate)     (None, 8202)         0           flatten_2[0][0]                  \n",
            "                                                                 input_5[0][0]                    \n",
            "__________________________________________________________________________________________________\n",
            "dense_sn_3 (DenseSN)            (None, 512)          4200448     concatenate_2[0][0]              \n",
            "__________________________________________________________________________________________________\n",
            "dense_sn_4 (DenseSN)            (None, 1)            514         dense_sn_3[0][0]                 \n",
            "==================================================================================================\n",
            "Total params: 7,150,851\n",
            "Trainable params: 7,148,770\n",
            "Non-trainable params: 2,081\n",
            "__________________________________________________________________________________________________\n",
            "Model: \"model_4\"\n",
            "__________________________________________________________________________________________________\n",
            "Layer (type)                    Output Shape         Param #     Connected to                     \n",
            "==================================================================================================\n",
            "input_8 (InputLayer)            (None, 128)          0                                            \n",
            "__________________________________________________________________________________________________\n",
            "input_7 (InputLayer)            (None, 10)           0                                            \n",
            "__________________________________________________________________________________________________\n",
            "l4 (Concatenate)                (None, 138)          0           input_8[0][0]                    \n",
            "                                                                 input_7[0][0]                    \n",
            "__________________________________________________________________________________________________\n",
            "l5 (Dense)                      (None, 8192)         1138688     l4[0][0]                         \n",
            "__________________________________________________________________________________________________\n",
            "l6 (Reshape)                    (None, 4, 4, 512)    0           l5[0][0]                         \n",
            "__________________________________________________________________________________________________\n",
            "l7 (ConvSN2DTranspose)          (None, 8, 8, 256)    2097664     l6[0][0]                         \n",
            "__________________________________________________________________________________________________\n",
            "l8 (BatchNormalization)         (None, 8, 8, 256)    1024        l7[0][0]                         \n",
            "__________________________________________________________________________________________________\n",
            "l9 (Activation)                 (None, 8, 8, 256)    0           l8[0][0]                         \n",
            "__________________________________________________________________________________________________\n",
            "l10 (ConvSN2DTranspose)         (None, 16, 16, 128)  524544      l9[0][0]                         \n",
            "__________________________________________________________________________________________________\n",
            "l11 (BatchNormalization)        (None, 16, 16, 128)  512         l10[0][0]                        \n",
            "__________________________________________________________________________________________________\n",
            "l12 (Activation)                (None, 16, 16, 128)  0           l11[0][0]                        \n",
            "__________________________________________________________________________________________________\n",
            "conv_s_n2d_25 (ConvSN2D)        (None, 16, 16, 16)   2080        l12[0][0]                        \n",
            "__________________________________________________________________________________________________\n",
            "conv_s_n2d_24 (ConvSN2D)        (None, 16, 16, 16)   2080        l12[0][0]                        \n",
            "__________________________________________________________________________________________________\n",
            "lambda_17 (Lambda)              (None, None, None)   0           conv_s_n2d_25[0][0]              \n",
            "__________________________________________________________________________________________________\n",
            "lambda_16 (Lambda)              (None, None, None)   0           conv_s_n2d_24[0][0]              \n",
            "__________________________________________________________________________________________________\n",
            "lambda_19 (Lambda)              (None, None, None)   0           lambda_17[0][0]                  \n",
            "                                                                 lambda_16[0][0]                  \n",
            "__________________________________________________________________________________________________\n",
            "conv_s_n2d_26 (ConvSN2D)        (None, 16, 16, 128)  16640       l12[0][0]                        \n",
            "__________________________________________________________________________________________________\n",
            "softmax_4 (Softmax)             (None, None, None)   0           lambda_19[0][0]                  \n",
            "__________________________________________________________________________________________________\n",
            "lambda_18 (Lambda)              (None, None, None)   0           conv_s_n2d_26[0][0]              \n",
            "__________________________________________________________________________________________________\n",
            "lambda_20 (Lambda)              (None, None, None)   0           softmax_4[0][0]                  \n",
            "                                                                 lambda_18[0][0]                  \n",
            "__________________________________________________________________________________________________\n",
            "self_attention_gamma_4 (SelfAtt (None, 16, 16, 128)  1           l12[0][0]                        \n",
            "                                                                 lambda_20[0][0]                  \n",
            "__________________________________________________________________________________________________\n",
            "l15 (ConvSN2DTranspose)         (None, 32, 32, 64)   131200      self_attention_gamma_4[0][0]     \n",
            "__________________________________________________________________________________________________\n",
            "l16 (BatchNormalization)        (None, 32, 32, 64)   256         l15[0][0]                        \n",
            "__________________________________________________________________________________________________\n",
            "l17 (Activation)                (None, 32, 32, 64)   0           l16[0][0]                        \n",
            "__________________________________________________________________________________________________\n",
            "l18 (ConvSN2DTranspose)         (None, 32, 32, 3)    1734        l17[0][0]                        \n",
            "==================================================================================================\n",
            "Total params: 3,916,423\n",
            "Trainable params: 3,914,916\n",
            "Non-trainable params: 1,507\n",
            "__________________________________________________________________________________________________\n"
          ],
          "name": "stdout"
        }
      ]
    },
    {
      "cell_type": "markdown",
      "metadata": {
        "id": "Cxi0Lp8WloHq",
        "colab_type": "text"
      },
      "source": [
        "**HINGE LOSS FUNCTION**"
      ]
    },
    {
      "cell_type": "code",
      "metadata": {
        "id": "0UOdGRPDO0Yo",
        "colab_type": "code",
        "colab": {}
      },
      "source": [
        "def hinge_G_loss(y_true, y_pred):\n",
        "    return -K.mean(y_pred)\n",
        "\n",
        "def hinge_D_real_loss(y_true, y_pred):\n",
        "    return K.mean(K.relu(1-y_pred))\n",
        "\n",
        "def hinge_D_fake_loss(y_true, y_pred):\n",
        "    return K.mean(K.relu(1+y_pred))"
      ],
      "execution_count": 0,
      "outputs": []
    },
    {
      "cell_type": "markdown",
      "metadata": {
        "id": "XVCDcm9wlzc9",
        "colab_type": "text"
      },
      "source": [
        "**Declaring the  generator && Discriminator**"
      ]
    },
    {
      "cell_type": "code",
      "metadata": {
        "id": "IRhRDnZYlwIf",
        "colab_type": "code",
        "colab": {}
      },
      "source": [
        "Real_image                             = Input(shape=(32,32,3))\n",
        "Real_label                             = Input(shape = (10,))\n",
        "Noise_input_for_training_discriminator, Fake_label = generator.input\n",
        "Fake_image                             = generator([Noise_input_for_training_discriminator, Fake_label])\n",
        "Discriminator_output_for_real          = discriminator([Real_image, Real_label])\n",
        "Discriminator_output_for_fake          = discriminator([Fake_image, Fake_label])\n",
        "\n",
        "model_for_training_discriminator       = Model([Real_image, Real_label,\n",
        "                                                Noise_input_for_training_discriminator, Fake_label],\n",
        "                                               [Discriminator_output_for_real,\n",
        "                                                Discriminator_output_for_fake])\n",
        "gan                                    = Model([Noise_input_for_training_discriminator, Fake_label], Discriminator_output_for_fake)"
      ],
      "execution_count": 0,
      "outputs": []
    },
    {
      "cell_type": "markdown",
      "metadata": {
        "id": "Q6kxQKVdmKNB",
        "colab_type": "text"
      },
      "source": [
        "**Load the weights of the model which are trained already**"
      ]
    },
    {
      "cell_type": "code",
      "metadata": {
        "id": "pnrLLr66mCWN",
        "colab_type": "code",
        "colab": {}
      },
      "source": [
        "discriminator.load_weights('/content/drive/My Drive/DeepLearning/cSASNDCGAN/modelsdiscriminator_model_weights_92.h5')\n",
        "gan.load_weights('/content/drive/My Drive/DeepLearning/cSASNDCGAN/modelsgan_model_weights_92.h5')\n",
        "generator.load_weights('/content/drive/My Drive/DeepLearning/cSASNDCGAN/modelsgenerator_model_weights_92.h5')"
      ],
      "execution_count": 0,
      "outputs": []
    },
    {
      "cell_type": "markdown",
      "metadata": {
        "id": "QHrdU-uNmRIG",
        "colab_type": "text"
      },
      "source": [
        "**Compile the Model(Generator && Discriminator)**"
      ]
    },
    {
      "cell_type": "code",
      "metadata": {
        "id": "aWEvyBs6O0Yq",
        "colab_type": "code",
        "outputId": "2e2ed3ce-a355-455e-acb6-1c3f7de16b11",
        "colab": {
          "base_uri": "https://localhost:8080/",
          "height": 800
        }
      },
      "source": [
        "\n",
        "generator.trainable = False\n",
        "discriminator.trainable = True\n",
        "model_for_training_discriminator.compile(optimizer=Adam(LEARNING_RATE_D*TRAINING_RATIO, beta_1=BETA_1, beta_2=BETA_2), loss=[hinge_D_real_loss, hinge_D_fake_loss])\n",
        "model_for_training_discriminator.summary()\n",
        "discriminator.trainable = False\n",
        "generator.trainable = True\n",
        "gan.compile(optimizer=Adam(LEARNING_RATE_G, beta_1=BETA_1, beta_2=BETA_2), loss=hinge_G_loss)\n",
        "gan.summary()"
      ],
      "execution_count": 0,
      "outputs": [
        {
          "output_type": "stream",
          "text": [
            "WARNING:tensorflow:From /usr/local/lib/python3.6/dist-packages/keras/optimizers.py:793: The name tf.train.Optimizer is deprecated. Please use tf.compat.v1.train.Optimizer instead.\n",
            "\n",
            "Model: \"model_5\"\n",
            "__________________________________________________________________________________________________\n",
            "Layer (type)                    Output Shape         Param #     Connected to                     \n",
            "==================================================================================================\n",
            "input_8 (InputLayer)            (None, 128)          0                                            \n",
            "__________________________________________________________________________________________________\n",
            "input_7 (InputLayer)            (None, 10)           0                                            \n",
            "__________________________________________________________________________________________________\n",
            "input_9 (InputLayer)            (None, 32, 32, 3)    0                                            \n",
            "__________________________________________________________________________________________________\n",
            "input_10 (InputLayer)           (None, 10)           0                                            \n",
            "__________________________________________________________________________________________________\n",
            "model_4 (Model)                 (None, 32, 32, 3)    3916423     input_8[0][0]                    \n",
            "                                                                 input_7[0][0]                    \n",
            "__________________________________________________________________________________________________\n",
            "model_3 (Model)                 (None, 1)            7150851     input_9[0][0]                    \n",
            "                                                                 input_10[0][0]                   \n",
            "                                                                 model_4[1][0]                    \n",
            "                                                                 input_7[0][0]                    \n",
            "==================================================================================================\n",
            "Total params: 11,067,274\n",
            "Trainable params: 7,148,770\n",
            "Non-trainable params: 3,918,504\n",
            "__________________________________________________________________________________________________\n",
            "Model: \"model_6\"\n",
            "__________________________________________________________________________________________________\n",
            "Layer (type)                    Output Shape         Param #     Connected to                     \n",
            "==================================================================================================\n",
            "input_8 (InputLayer)            (None, 128)          0                                            \n",
            "__________________________________________________________________________________________________\n",
            "input_7 (InputLayer)            (None, 10)           0                                            \n",
            "__________________________________________________________________________________________________\n",
            "model_4 (Model)                 (None, 32, 32, 3)    3916423     input_8[0][0]                    \n",
            "                                                                 input_7[0][0]                    \n",
            "__________________________________________________________________________________________________\n",
            "model_3 (Model)                 (None, 1)            7150851     model_4[1][0]                    \n",
            "                                                                 input_7[0][0]                    \n",
            "==================================================================================================\n",
            "Total params: 11,067,274\n",
            "Trainable params: 3,914,916\n",
            "Non-trainable params: 7,152,358\n",
            "__________________________________________________________________________________________________\n"
          ],
          "name": "stdout"
        }
      ]
    },
    {
      "cell_type": "markdown",
      "metadata": {
        "id": "DwEKicEYmf2p",
        "colab_type": "text"
      },
      "source": [
        "**Check Point**"
      ]
    },
    {
      "cell_type": "code",
      "metadata": {
        "colab_type": "code",
        "id": "tsb9jbd3s3GV",
        "outputId": "ecac4e28-3136-4b9c-d453-c6ae2dae8b71",
        "colab": {
          "base_uri": "https://localhost:8080/",
          "height": 287
        }
      },
      "source": [
        "X = X/255*2-1\n",
        "plt.imshow((X[8787]+1)/2)"
      ],
      "execution_count": 0,
      "outputs": [
        {
          "output_type": "execute_result",
          "data": {
            "text/plain": [
              "<matplotlib.image.AxesImage at 0x7f34b5d76710>"
            ]
          },
          "metadata": {
            "tags": []
          },
          "execution_count": 18
        },
        {
          "output_type": "display_data",
          "data": {
            "image/png": "[encoded data removed]",
            "text/plain": [
              "<Figure size 432x288 with 1 Axes>"
            ]
          },
          "metadata": {
            "tags": []
          }
        }
      ]
    },
    {
      "cell_type": "markdown",
      "metadata": {
        "id": "QjSf9k09mvXE",
        "colab_type": "text"
      },
      "source": [
        "**Functions needed in the Model**"
      ]
    },
    {
      "cell_type": "code",
      "metadata": {
        "colab_type": "code",
        "id": "fXdw8EESvS2t",
        "colab": {}
      },
      "source": [
        "def one_hot_encode(y):\n",
        "    z = np.zeros((len(y), 10))\n",
        "    idx = np.arange(len(y))\n",
        "    z[idx, y] = 1\n",
        "    return z\n",
        "\n",
        "def generate_random_labels(n):\n",
        "    y = np.random.choice(10, n)\n",
        "    y = one_hot_encode(y)\n",
        "    return y\n",
        "  \n",
        "def unison_shuffled_copies(a, b):\n",
        "    assert len(a) == len(b)\n",
        "    p = np.random.permutation(len(a))\n",
        "    return a[p], b[p]\n",
        "  \n",
        "def scale_images(images, new_shape):\n",
        "\timages_list = list()\n",
        "\tfor image in images:\n",
        "\t\t# resize with nearest neighbor interpolation\n",
        "\t\tnew_image = resize(image, new_shape, 0)\n",
        "\t\t# store\n",
        "\t\timages_list.append(new_image)\n",
        "\treturn asarray(images_list)"
      ],
      "execution_count": 0,
      "outputs": []
    },
    {
      "cell_type": "markdown",
      "metadata": {
        "id": "WkBGM8wFm5kk",
        "colab_type": "text"
      },
      "source": [
        "**Functions to save weights and Files**"
      ]
    },
    {
      "cell_type": "code",
      "metadata": {
        "colab_type": "code",
        "id": "N-7jYHD2vpng",
        "colab": {}
      },
      "source": [
        "\n",
        "logs_loss = open(SAVE_LOGS_DIR + \"logs_\" + str(19) + \".txt\", 'w')\n",
        "logs_fid_loss = open(SAVE_LOSS_FID_LOGS + \"logs_\" + str(19) + \".txt\", 'w')\n",
        "def log_write(file, data):\n",
        "    for values in data:\n",
        "        file.write(str(values) + '\\t')\n",
        "    file.write('\\n')\n",
        "def save_models(generator, discriminator, gan, epoch_no, model_save_dir = model_save_dir):\n",
        "        discriminator.trainable = True\n",
        "        save_model(discriminator, model_save_dir + 'discriminator_model', epoch_no)\n",
        "        generator.trainable = True\n",
        "        save_model(generator, model_save_dir + 'generator_model', epoch_no)\n",
        "        discriminator.trainable = False\n",
        "        save_model(gan, model_save_dir + 'gan_model', epoch_no)\n",
        "        \n",
        "def save_model(model, model_path, epoch_no):\n",
        "        with open(str(model_path) + '_' + str(epoch_no) + '.json', 'w') as json_file:\n",
        "            json_file.write(model.to_json())\n",
        "\n",
        "        with open(str(model_path) + '.json', 'w') as json_file:\n",
        "            json_file.write(model.to_json())\n",
        "            \n",
        "        model.save_weights(str(model_path + '_' + \"weights_\" + str(epoch_no) + '.h5'))\n",
        "        model.save_weights(str(model_path + '_' + \"weights\" + '.h5'))\n",
        "        \n",
        "        model.save(str(model_path+ '.h5')) \n",
        "\n"
      ],
      "execution_count": 0,
      "outputs": []
    },
    {
      "cell_type": "markdown",
      "metadata": {
        "id": "u2WzG0mKnAm_",
        "colab_type": "text"
      },
      "source": [
        "**Function to calculate FID**"
      ]
    },
    {
      "cell_type": "code",
      "metadata": {
        "colab_type": "code",
        "id": "BSnjoBG9yoQr",
        "outputId": "88a5b45a-20ee-4779-bf10-58d538def127",
        "colab": {
          "base_uri": "https://localhost:8080/",
          "height": 141
        }
      },
      "source": [
        "# loading Inception\n",
        "inception = InceptionV3(include_top=False, pooling='avg', input_shape=(299, 299, 3))\n",
        "# mean1 and sigma1 for Xtest\n",
        "np.random.shuffle(x_test)\n",
        "n_batches = int(np.ceil(float(x_test.shape[0]) / BATCHSIZE))\n",
        "act = np.zeros([x_test.shape[0], 2048], dtype = np.float32)\n",
        "for i in range(n_batches):\n",
        "  inp = x_test[i * BATCHSIZE : (i + 1) * BATCHSIZE]\n",
        "  size = 299\n",
        "  inp = inp.astype('float32')\n",
        "  inp = scale_images(inp, (299,299,3))\n",
        "  inp = preprocess_input(inp)\n",
        "  activations = inception.predict(inp)\n",
        "  act[i * BATCHSIZE : i * BATCHSIZE + min(BATCHSIZE, inp.shape[0])] = activations\n",
        "f1 = act\n",
        "mean1, sigma1 = f1.mean(axis=0), np.cov(f1, rowvar=False)\n",
        "\n",
        "fid_label_one = one_hot_encode(y_test[:,0])\n",
        "def generateFID():\n",
        "      samples = np.zeros((10000, 32, 32, 3))\n",
        "      noOf_batches = 20\n",
        "      n = 0\n",
        "      for btch in range(noOf_batches):\n",
        "          sample_fid = np.random.randn(500, 128)\n",
        "          samples[n:(n+500)] = generator.predict([sample_fid,fid_label_one[n:(n+500)]])\n",
        "          n += 500\n",
        "\n",
        "      samples = (samples + 1.) * 127.5\n",
        "\n",
        "     \n",
        "      #Generate Activations\n",
        "      n_batches = int(np.ceil(float(samples.shape[0]) / BATCHSIZE))\n",
        "      act = np.zeros([samples.shape[0], 2048], dtype = np.float32)\n",
        "      for i in range(n_batches):\n",
        "        inp = samples[i * BATCHSIZE : (i + 1) * BATCHSIZE]\n",
        "        size = 299\n",
        "        inp = inp.astype('float32')\n",
        "        inp = scale_images(inp, (299,299,3))\n",
        "        inp = preprocess_input(inp)\n",
        "        activations = inception.predict(inp)\n",
        "        act[i * BATCHSIZE : i * BATCHSIZE + min(BATCHSIZE, inp.shape[0])] = activations\n",
        "      f2 = act\n",
        "      mean2, sigma2 = f2.mean(axis=0), np.cov(f2, rowvar=False)\n",
        "      sum_sq_diff = np.sum((mean1 - mean2)**2)\n",
        "      cov_mean = sqrtm(sigma1.dot(sigma2))\n",
        "      if np.iscomplexobj(cov_mean):\n",
        "          cov_mean = cov_mean.real\n",
        "      fid = sum_sq_diff + np.trace(sigma1 + sigma2 - 2.0*cov_mean)\n",
        "      \n",
        "      return fid\n",
        "  "
      ],
      "execution_count": 0,
      "outputs": [
        {
          "output_type": "stream",
          "text": [
            "WARNING:tensorflow:From /usr/local/lib/python3.6/dist-packages/keras/backend/tensorflow_backend.py:4267: The name tf.nn.max_pool is deprecated. Please use tf.nn.max_pool2d instead.\n",
            "\n",
            "WARNING:tensorflow:From /usr/local/lib/python3.6/dist-packages/keras/backend/tensorflow_backend.py:4271: The name tf.nn.avg_pool is deprecated. Please use tf.nn.avg_pool2d instead.\n",
            "\n",
            "Downloading data from https://github.com/fchollet/deep-learning-models/releases/download/v0.5/inception_v3_weights_tf_dim_ordering_tf_kernels_notop.h5\n",
            "87916544/87910968 [==============================] - 3s 0us/step\n"
          ],
          "name": "stdout"
        }
      ]
    },
    {
      "cell_type": "markdown",
      "metadata": {
        "id": "FerB6TCunUyl",
        "colab_type": "text"
      },
      "source": [
        "**Creating Real and Fake labels**"
      ]
    },
    {
      "cell_type": "code",
      "metadata": {
        "id": "XCwnC0U4O0ZP",
        "colab_type": "code",
        "outputId": "c9621960-ce16-437a-c693-345de4bae4cf",
        "colab": {
          "base_uri": "https://localhost:8080/",
          "height": 52
        }
      },
      "source": [
        "\n",
        "real_y = np.ones((BATCHSIZE, 1), dtype=np.float32)\n",
        "fake_y = -real_y\n",
        "true_label = one_hot_encode(y_train[:,0])\n",
        "print(true_label.shape)\n",
        "real_y = np.ones((BATCHSIZE, 1), dtype=np.float32)\n",
        "fake_y = -real_y\n",
        "fid_label = one_hot_encode(y_test[:,0])\n",
        "print(fid_label.shape)"
      ],
      "execution_count": 0,
      "outputs": [
        {
          "output_type": "stream",
          "text": [
            "(50000, 10)\n",
            "(10000, 10)\n"
          ],
          "name": "stdout"
        }
      ]
    },
    {
      "cell_type": "markdown",
      "metadata": {
        "id": "ZHeCZTBYnsgn",
        "colab_type": "text"
      },
      "source": [
        "**RUN this Cell to see Generator OutPut**\n",
        "\n",
        "**NOTE:Please run all the above cells sequentially**\n",
        "**and give correct path while running loadweight cell**"
      ]
    },
    {
      "cell_type": "code",
      "metadata": {
        "id": "0XRds8pZcwnf",
        "colab_type": "code",
        "outputId": "9c06429a-6f68-451c-b49b-e2ab0973594d",
        "colab": {
          "base_uri": "https://localhost:8080/",
          "height": 304
        }
      },
      "source": [
        "test_noise = np.random.randn(64, 128)\n",
        "test_label = randint(low = 10, size = Size).reshape(-1, 1)\n",
        "test_label_one_coded = one_hot_encode(test_label[:,0])\n",
        "\n",
        "generated_image = generator.predict([test_noise,test_label_one_coded])\n",
        "generated_image = (generated_image + 1)/2\n",
        "for i in range(8):\n",
        "    new = generated_image[i*8:i*8+8].reshape(32*8,32,3)\n",
        "    if i!=0:\n",
        "        old = np.concatenate((old,new),axis=1)\n",
        "    else:\n",
        "        old = new\n",
        "print('plot generated_image  waiting to calculate FID considering 10,000 images')\n",
        "plt.imshow(old)\n",
        "print(generateFID())"
      ],
      "execution_count": 0,
      "outputs": [
        {
          "output_type": "stream",
          "text": [
            "plot generated_image  waiting to calculate FID\n",
            "32.44780543322018\n"
          ],
          "name": "stdout"
        },
        {
          "output_type": "display_data",
          "data": {
            "image/png": "[encoded data removed]",
            "text/plain": [
              "<Figure size 432x288 with 1 Axes>"
            ]
          },
          "metadata": {
            "tags": []
          }
        }
      ]
    },
    {
      "cell_type": "markdown",
      "metadata": {
        "id": "GI0mAnAAozdV",
        "colab_type": "text"
      },
      "source": [
        "**Train the data upto 500 epochs**"
      ]
    },
    {
      "cell_type": "code",
      "metadata": {
        "colab_type": "code",
        "id": "TaTTDH0Ayik_",
        "outputId": "0bdcc54b-c93b-4ba0-a0e3-a4b464d5c108",
        "scrolled": true,
        "colab": {
          "base_uri": "https://localhost:8080/",
          "height": 1000
        }
      },
      "source": [
        "\n",
        "#training the model\n",
        "test_noise = np.random.randn(Size, 128)\n",
        "test_label = randint(low = 10, size = Size).reshape(-1, 1)\n",
        "test_label_one_coded = one_hot_encode(test_label[:,0])\n",
        "\n",
        "D_real = []\n",
        "D_fake = []\n",
        "D_loss = []\n",
        "G_loss = []\n",
        "\n",
        "d_real_perepoch = []\n",
        "d_fake_perepoch = []\n",
        "d_loss_perepoch = []\n",
        "g_loss_perepoch = []\n",
        "\n",
        "FID = []\n",
        "fid = 0\n",
        "counter = 0\n",
        "\n",
        "for epoch in range(EPOCHS):\n",
        "    X_shuffled, true_label_shuffled = unison_shuffled_copies(X, true_label)\n",
        "    print(\"epoch {} of {}\".format(epoch+1, EPOCHS))\n",
        "    num_batches = int(X.shape[0] // BATCHSIZE)\n",
        "    #PROGRESS BAR \n",
        "    print(\"number of batches: {}\".format(int(X.shape[0] // (BATCHSIZE))))\n",
        "    progress_bar = Progbar(target=int(X.shape[0] // (BATCHSIZE * TRAINING_RATIO)), width=20)\n",
        "    minibatches_size = BATCHSIZE * TRAINING_RATIO\n",
        "    start_time = time()\n",
        "    \n",
        "    \n",
        "    #TRAIN MODEL ON MINI BATCHES\n",
        "    for index in range(int(X.shape[0] // (BATCHSIZE * TRAINING_RATIO))):\n",
        "        progress_bar.update(index)\n",
        "        discriminator_minibatches = X_shuffled[index * minibatches_size:(index + 1) * minibatches_size]\n",
        "        true_label_minibatches = true_label_shuffled[index * minibatches_size:(index + 1) * minibatches_size]\n",
        "        \n",
        "        for j in range(TRAINING_RATIO):\n",
        "            image_batch = discriminator_minibatches[j * BATCHSIZE : (j + 1) * BATCHSIZE]\n",
        "            label_batch = true_label_minibatches[j * BATCHSIZE : (j + 1) * BATCHSIZE]\n",
        "            noise = np.random.randn(BATCHSIZE, 128).astype(np.float32)\n",
        "            random_labels = generate_random_labels(BATCHSIZE)\n",
        "            discriminator.trainable = True\n",
        "            generator.trainable = False\n",
        "            generated_image = generator.predict([noise, label_batch])\n",
        "            # print(generated_image.shape)\n",
        "            err_real, err_fake, s_err = model_for_training_discriminator.train_on_batch([image_batch, label_batch, noise, label_batch], [real_y, fake_y])\n",
        "\n",
        "            err_total = 0.5*(err_real + err_fake)\n",
        "            D_loss.append(err_total)\n",
        "            D_real.append(err_real)\n",
        "            D_fake.append(err_fake)\n",
        "        discriminator.trainable = False\n",
        "        generator.trainable = True\n",
        "        \n",
        "        err_g = gan.train_on_batch([np.random.randn(BATCHSIZE, 128), random_labels], real_y)\n",
        "        G_loss.append(err_g)\n",
        "        log_write(logs_fid_loss, [err_real, err_fake, err_total, err_g])\n",
        "        counter +=1\n",
        "        \n",
        "        \n",
        "        #CALCULATE THE FID\n",
        "        if(np.mod(counter, steps) == 0):\n",
        "\n",
        "            fid = generateFID()\n",
        "            FID.append(fid)\n",
        "            log_write(logs_loss, [FID])\n",
        "\n",
        "    if epoch != 0 and epoch % model_save_interval == 0:\n",
        "                save_models(generator, discriminator, gan, epoch)\n",
        "    #SAVE THE LOSSES\n",
        "    print('\\nepoch time: {}'.format(time()-start_time))\n",
        "    print(\"fid: {}\".format(fid))\n",
        "    d_real_perepoch.append(err_real)\n",
        "    d_fake_perepoch.append(err_fake)\n",
        "    d_loss_perepoch.append(err_total)\n",
        "    g_loss_perepoch.append(err_g)\n",
        "\n",
        "    \n",
        "    \n",
        "    \n",
        "    print(\"d_real_loss:{} d_fake_loss:{} d_loss:{} g_loss:{}\".format(d_real_perepoch[-1], d_fake_perepoch[-1], d_loss_perepoch[-1], g_loss_perepoch[-1]))\n",
        "     #Generate image\n",
        "    generated_image = generator.predict([test_noise, test_label_one_coded])\n",
        "    generated_image = (generated_image + 1)/2\n",
        "    for i in range(Row_Num):\n",
        "        new = generated_image[i*Row_Num:i*Row_Num+Row_Num].reshape(32*Row_Num,32,3)\n",
        "        if i!=0:\n",
        "            old = np.concatenate((old,new),axis=1)\n",
        "        else:\n",
        "            old = new\n",
        "    print('plot generated_image')\n",
        "    plt.imsave(SAVE_IMG_DIR + 'SN_epoch_{}.png'.format(epoch), old)\n",
        "    \n",
        "    \n",
        "logs_loss.close()\n",
        "logs_fid_loss.close()\n",
        "    "
      ],
      "execution_count": 0,
      "outputs": [
        {
          "output_type": "stream",
          "text": [
            "epoch 1 of 500\n",
            "number of batches: 781\n",
            "\r  0/781 [....................] - ETA: 0sWARNING:tensorflow:From /usr/local/lib/python3.6/dist-packages/tensorflow_core/python/ops/math_grad.py:1375: where (from tensorflow.python.ops.array_ops) is deprecated and will be removed in a future version.\n",
            "Instructions for updating:\n",
            "Use tf.where in 2.0, which has the same broadcast rule as np.where\n",
            "WARNING:tensorflow:From /usr/local/lib/python3.6/dist-packages/keras/backend/tensorflow_backend.py:1033: The name tf.assign_add is deprecated. Please use tf.compat.v1.assign_add instead.\n",
            "\n",
            "WARNING:tensorflow:From /usr/local/lib/python3.6/dist-packages/keras/backend/tensorflow_backend.py:1020: The name tf.assign is deprecated. Please use tf.compat.v1.assign instead.\n",
            "\n",
            "780/781 [==================>.] - ETA: 0s\n",
            "epoch time: 296.6158056259155\n",
            "fid: 0\n",
            "d_real_loss:1.1569654941558838 d_fake_loss:0.848095715045929 d_loss:1.002530574798584 g_loss:0.30459174513816833\n",
            "plot generated_image\n",
            "epoch 2 of 500\n",
            "number of batches: 781\n",
            "780/781 [==================>.] - ETA: 0s\n",
            "epoch time: 505.8194625377655\n",
            "fid: 29.47536807622256\n",
            "d_real_loss:1.2848169803619385 d_fake_loss:0.9950218796730042 d_loss:1.139919400215149 g_loss:0.3114432990550995\n",
            "plot generated_image\n",
            "epoch 3 of 500\n",
            "number of batches: 781\n",
            "780/781 [==================>.] - ETA: 0s\n",
            "epoch time: 491.0525813102722\n",
            "fid: 34.33058602090942\n",
            "d_real_loss:1.3435232639312744 d_fake_loss:0.4119505286216736 d_loss:0.8777369260787964 g_loss:0.8711280822753906\n",
            "plot generated_image\n",
            "epoch 4 of 500\n",
            "number of batches: 781\n",
            "780/781 [==================>.] - ETA: 0s\n",
            "epoch time: 488.6815412044525\n",
            "fid: 31.62877398214178\n",
            "d_real_loss:1.117619276046753 d_fake_loss:0.6000818014144897 d_loss:0.8588505387306213 g_loss:0.8738844394683838\n",
            "plot generated_image\n",
            "epoch 5 of 500\n",
            "number of batches: 781\n",
            "780/781 [==================>.] - ETA: 0s\n",
            "epoch time: 280.2059488296509\n",
            "fid: 31.62877398214178\n",
            "d_real_loss:1.1309016942977905 d_fake_loss:0.8682538270950317 d_loss:0.9995777606964111 g_loss:0.09413741528987885\n",
            "plot generated_image\n",
            "epoch 6 of 500\n",
            "number of batches: 781\n",
            "780/781 [==================>.] - ETA: 0s\n",
            "epoch time: 489.1335418224335\n",
            "fid: 30.63907076781495\n",
            "d_real_loss:1.24821937084198 d_fake_loss:0.4266059994697571 d_loss:0.8374127149581909 g_loss:0.9370924234390259\n",
            "plot generated_image\n",
            "epoch 7 of 500\n",
            "number of batches: 781\n",
            "780/781 [==================>.] - ETA: 0s\n",
            "epoch time: 489.803391456604\n",
            "fid: 31.658954342371295\n",
            "d_real_loss:1.2441903352737427 d_fake_loss:0.6332560777664185 d_loss:0.9387232065200806 g_loss:0.9202317595481873\n",
            "plot generated_image\n",
            "epoch 8 of 500\n",
            "number of batches: 781\n",
            "780/781 [==================>.] - ETA: 0s\n",
            "epoch time: 488.0331132411957\n",
            "fid: 31.111915803229756\n",
            "d_real_loss:1.140834927558899 d_fake_loss:0.4776754677295685 d_loss:0.8092551827430725 g_loss:0.839592456817627\n",
            "plot generated_image\n",
            "epoch 9 of 500\n",
            "number of batches: 781\n",
            "780/781 [==================>.] - ETA: 0s\n",
            "epoch time: 490.53425693511963\n",
            "fid: 29.648318770443446\n",
            "d_real_loss:0.999140739440918 d_fake_loss:0.6576796174049377 d_loss:0.8284101486206055 g_loss:0.6508121490478516\n",
            "plot generated_image\n",
            "epoch 10 of 500\n",
            "number of batches: 781\n",
            "780/781 [==================>.] - ETA: 0s\n",
            "epoch time: 280.678106546402\n",
            "fid: 29.648318770443446\n",
            "d_real_loss:1.294204831123352 d_fake_loss:1.1245962381362915 d_loss:1.2094005346298218 g_loss:-0.1627844274044037\n",
            "plot generated_image\n",
            "epoch 11 of 500\n",
            "number of batches: 781\n",
            "780/781 [==================>.] - ETA: 0s\n",
            "epoch time: 489.7939512729645\n",
            "fid: 31.27705483566833\n",
            "d_real_loss:1.2248787879943848 d_fake_loss:0.4388889670372009 d_loss:0.8318839073181152 g_loss:0.8490179777145386\n",
            "plot generated_image\n",
            "epoch 12 of 500\n",
            "number of batches: 781\n",
            "780/781 [==================>.] - ETA: 0s\n",
            "epoch time: 490.2832033634186\n",
            "fid: 32.99871463218872\n",
            "d_real_loss:1.2672736644744873 d_fake_loss:0.9466792941093445 d_loss:1.1069765090942383 g_loss:0.7275901436805725\n",
            "plot generated_image\n",
            "epoch 13 of 500\n",
            "number of batches: 781\n",
            "780/781 [==================>.] - ETA: 0s\n",
            "epoch time: 489.9726560115814\n",
            "fid: 32.484173039754445\n",
            "d_real_loss:1.1991429328918457 d_fake_loss:0.9189178943634033 d_loss:1.0590304136276245 g_loss:0.2743385434150696\n",
            "plot generated_image\n",
            "epoch 14 of 500\n",
            "number of batches: 781\n",
            "780/781 [==================>.] - ETA: 0s\n",
            "epoch time: 280.23591113090515\n",
            "fid: 32.484173039754445\n",
            "d_real_loss:1.1169805526733398 d_fake_loss:0.3941380977630615 d_loss:0.7555593252182007 g_loss:0.9269182682037354\n",
            "plot generated_image\n",
            "epoch 15 of 500\n",
            "number of batches: 781\n",
            "780/781 [==================>.] - ETA: 0s\n",
            "epoch time: 489.34742546081543\n",
            "fid: 30.484634164505767\n",
            "d_real_loss:1.236350655555725 d_fake_loss:0.5200997591018677 d_loss:0.8782252073287964 g_loss:0.8793795704841614\n",
            "plot generated_image\n",
            "epoch 16 of 500\n",
            "number of batches: 781\n",
            "780/781 [==================>.] - ETA: 0s\n",
            "epoch time: 486.7925684452057\n",
            "fid: 31.496956898850698\n",
            "d_real_loss:1.3366892337799072 d_fake_loss:1.1970508098602295 d_loss:1.2668700218200684 g_loss:0.0867505893111229\n",
            "plot generated_image\n",
            "epoch 17 of 500\n",
            "number of batches: 781\n",
            "780/781 [==================>.] - ETA: 0s\n",
            "epoch time: 489.0143551826477\n",
            "fid: 32.99841840497022\n",
            "d_real_loss:1.0828250646591187 d_fake_loss:0.8175744414329529 d_loss:0.9501997232437134 g_loss:0.34681254625320435\n",
            "plot generated_image\n",
            "epoch 18 of 500\n",
            "number of batches: 781\n",
            "780/781 [==================>.] - ETA: 0s\n",
            "epoch time: 486.82677268981934\n",
            "fid: 30.041873031672978\n",
            "d_real_loss:1.2890477180480957 d_fake_loss:0.84691321849823 d_loss:1.0679805278778076 g_loss:0.7512431144714355\n",
            "plot generated_image\n",
            "epoch 19 of 500\n",
            "number of batches: 781\n",
            "780/781 [==================>.] - ETA: 0s\n",
            "epoch time: 281.1077437400818\n",
            "fid: 30.041873031672978\n",
            "d_real_loss:1.2036454677581787 d_fake_loss:1.0450522899627686 d_loss:1.1243488788604736 g_loss:0.00036871805787086487\n",
            "plot generated_image\n",
            "epoch 20 of 500\n",
            "number of batches: 781\n",
            "780/781 [==================>.] - ETA: 0s\n",
            "epoch time: 486.032559633255\n",
            "fid: 30.289313889974935\n",
            "d_real_loss:1.171380877494812 d_fake_loss:0.7292071580886841 d_loss:0.950294017791748 g_loss:0.8887056708335876\n",
            "plot generated_image\n",
            "epoch 21 of 500\n",
            "number of batches: 781\n",
            "780/781 [==================>.] - ETA: 0s\n",
            "epoch time: 489.58947110176086\n",
            "fid: 32.70579952623314\n",
            "d_real_loss:1.1633433103561401 d_fake_loss:0.7646859288215637 d_loss:0.9640146493911743 g_loss:0.5163514018058777\n",
            "plot generated_image\n",
            "epoch 22 of 500\n",
            "number of batches: 781\n",
            "780/781 [==================>.] - ETA: 0s\n",
            "epoch time: 484.82397866249084\n",
            "fid: 29.860616214595716\n",
            "d_real_loss:1.127872347831726 d_fake_loss:0.9173982739448547 d_loss:1.0226353406906128 g_loss:0.5191911458969116\n",
            "plot generated_image\n",
            "epoch 23 of 500\n",
            "number of batches: 781\n",
            "780/781 [==================>.] - ETA: 0s\n",
            "epoch time: 279.267147064209\n",
            "fid: 29.860616214595716\n",
            "d_real_loss:0.9908132553100586 d_fake_loss:0.6305462718009949 d_loss:0.8106797933578491 g_loss:0.7532829642295837\n",
            "plot generated_image\n",
            "epoch 24 of 500\n",
            "number of batches: 781\n",
            "780/781 [==================>.] - ETA: 0s\n",
            "epoch time: 488.14829993247986\n",
            "fid: 32.374316917634786\n",
            "d_real_loss:1.3924853801727295 d_fake_loss:0.28313153982162476 d_loss:0.8378084897994995 g_loss:0.7247084379196167\n",
            "plot generated_image\n",
            "epoch 25 of 500\n",
            "number of batches: 781\n",
            "780/781 [==================>.] - ETA: 0s\n",
            "epoch time: 488.7211537361145\n",
            "fid: 30.2438987388283\n",
            "d_real_loss:1.2568626403808594 d_fake_loss:0.4917580485343933 d_loss:0.8743103742599487 g_loss:0.8898362517356873\n",
            "plot generated_image\n",
            "epoch 26 of 500\n",
            "number of batches: 781\n",
            "780/781 [==================>.] - ETA: 0s\n",
            "epoch time: 487.497526884079\n",
            "fid: 31.786809601018973\n",
            "d_real_loss:1.366465449333191 d_fake_loss:0.47292235493659973 d_loss:0.9196938872337341 g_loss:1.1022889614105225\n",
            "plot generated_image\n",
            "epoch 27 of 500\n",
            "number of batches: 781\n",
            "235/781 [=====>..............] - ETA: 3:16"
          ],
          "name": "stdout"
        }
      ]
    },
    {
      "cell_type": "code",
      "metadata": {
        "colab_type": "code",
        "id": "ZX3VMXFRn-Ns",
        "outputId": "c5557c37-2591-4b38-f84d-0841140165c5",
        "colab": {
          "base_uri": "https://localhost:8080/",
          "height": 35
        }
      },
      "source": [
        ""
      ],
      "execution_count": 0,
      "outputs": [
        {
          "output_type": "stream",
          "text": [
            "Using TensorFlow backend.\n"
          ],
          "name": "stderr"
        }
      ]
    }
  ]
}